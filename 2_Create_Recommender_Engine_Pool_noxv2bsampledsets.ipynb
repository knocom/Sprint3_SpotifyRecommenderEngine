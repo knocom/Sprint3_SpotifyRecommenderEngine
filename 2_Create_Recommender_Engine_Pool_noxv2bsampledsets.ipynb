{
 "cells": [
  {
   "cell_type": "markdown",
   "metadata": {},
   "source": [
    "# Tracks Genre Classification\n",
    "\n",
    "- What does each playlist set sound like? What are their defining characteristics?\n",
    "\n",
    "- Using user-marked playlist genres as training data, can we build a model to correctly classify songs from a separate track dataset?"
   ]
  },
  {
   "cell_type": "code",
   "execution_count": 1,
   "metadata": {
    "ExecuteTime": {
     "end_time": "2020-10-12T16:35:31.736159Z",
     "start_time": "2020-10-12T16:35:31.730175Z"
    }
   },
   "outputs": [],
   "source": [
    "import pandas as pd\n",
    "import numpy as np\n",
    "\n",
    "import seaborn as sns\n",
    "import matplotlib.pyplot as plt\n",
    "%matplotlib inline"
   ]
  },
  {
   "cell_type": "markdown",
   "metadata": {},
   "source": [
    "## 1. Read the training data"
   ]
  },
  {
   "cell_type": "code",
   "execution_count": 8,
   "metadata": {},
   "outputs": [],
   "source": [
    "pdf = pd.read_csv('https://raw.githubusercontent.com/knocom/Sprint3_SpotifyRecommenderEngine/main/Rock_playlist_tracks_data.csv')"
   ]
  },
  {
   "cell_type": "code",
   "execution_count": 11,
   "metadata": {
    "ExecuteTime": {
     "end_time": "2020-10-12T16:35:31.907134Z",
     "start_time": "2020-10-12T16:35:31.738152Z"
    }
   },
   "outputs": [],
   "source": [
    "#genre_names = [\"R&B\", \"Classical\", \"Country\", \"Electronic\", \"Hiphop\",\"Jazz\", \"Pop\", \"Rock\", \"Reggae\", \"Rap\"]\n",
    "genre_names = [\"Rock\", \"Hiphoprapcons\", \"Country\", \"Jazz\", \"Classical\", \"Electronic\", \"Folk\"]\n",
    "\n",
    "playlist_df_list = []\n",
    "track_df_list = []\n",
    "for genre in genre_names:\n",
    "    # read and process the playlist data for keyword\n",
    "    try:\n",
    "        pdf = pd.read_csv('https://raw.githubusercontent.com/knocom/Sprint3_SpotifyRecommenderEngine/main/'+genre.lower()+'_playlist_data.csv')\n",
    "        pdf['genre'] = genre.lower().replace('&','n')\n",
    "        playlist_df_list.append(pdf)\n",
    "    except:\n",
    "        pdf = pd.read_csv('https://raw.githubusercontent.com/knocom/Sprint3_SpotifyRecommenderEngine/main/'+genre+'_playlist_data.csv')\n",
    "        pdf['genre'] = genre.lower().replace('&','n')\n",
    "        playlist_df_list.append(pdf)\n",
    "    try:\n",
    "        tdf = pd.read_csv('https://raw.githubusercontent.com/knocom/Sprint3_SpotifyRecommenderEngine/main/'+genre+'_playlist_tracks_data.csv')\n",
    "        tdf['genre'] = genre.lower().replace('&','n')\n",
    "        track_df_list.append(tdf)\n",
    "    except:\n",
    "        tdf = pd.read_csv('https://raw.githubusercontent.com/knocom/Sprint3_SpotifyRecommenderEngine/main/'+genre.lower()+'_playlist_tracks_data.csv')\n",
    "        tdf['genre'] = genre.lower().replace('&','n')\n",
    "        track_df_list.append(tdf)\n",
    "        \n",
    "playlist_df = pd.concat(playlist_df_list)\n",
    "tracks_df = pd.concat(track_df_list)\n"
   ]
  },
  {
   "cell_type": "code",
   "execution_count": 12,
   "metadata": {
    "ExecuteTime": {
     "end_time": "2020-10-12T16:35:31.914717Z",
     "start_time": "2020-10-12T16:35:31.909693Z"
    }
   },
   "outputs": [
    {
     "data": {
      "text/plain": [
       "((734, 7), (7000, 22))"
      ]
     },
     "execution_count": 12,
     "metadata": {},
     "output_type": "execute_result"
    }
   ],
   "source": [
    "#check shape\n",
    "playlist_df.shape, tracks_df.shape"
   ]
  },
  {
   "cell_type": "code",
   "execution_count": 4,
   "metadata": {
    "ExecuteTime": {
     "end_time": "2020-10-12T16:35:31.924655Z",
     "start_time": "2020-10-12T16:35:31.916674Z"
    }
   },
   "outputs": [
    {
     "name": "stdout",
     "output_type": "stream",
     "text": [
      "Playlist dataset columns: ['playlist_id' 'playlist_name' 'playlist_total_tracks' 'owner_id'\n",
      " 'owner_name' 'total_followers' 'genre'] \n",
      "\n",
      "Tracks dataset columns: ['track_id' 'track_name' 'artist_id' 'artist_name' 'album_id' 'duration'\n",
      " 'release_date' 'popularity' 'danceability' 'energy' 'key' 'loudness'\n",
      " 'mode' 'speechiness' 'acousticness' 'instrumentalness' 'liveness'\n",
      " 'valence' 'tempo' 'playlist_id' 'playlist_name' 'genre']\n"
     ]
    }
   ],
   "source": [
    "#check columns\n",
    "print(\"Playlist dataset columns: %s \\n\" % playlist_df.columns.values)\n",
    "print(\"Tracks dataset columns: %s\" % tracks_df.columns.values)"
   ]
  },
  {
   "cell_type": "code",
   "execution_count": 5,
   "metadata": {
    "ExecuteTime": {
     "end_time": "2020-10-12T16:35:31.937619Z",
     "start_time": "2020-10-12T16:35:31.925651Z"
    }
   },
   "outputs": [
    {
     "data": {
      "text/html": [
       "<div>\n",
       "<style scoped>\n",
       "    .dataframe tbody tr th:only-of-type {\n",
       "        vertical-align: middle;\n",
       "    }\n",
       "\n",
       "    .dataframe tbody tr th {\n",
       "        vertical-align: top;\n",
       "    }\n",
       "\n",
       "    .dataframe thead th {\n",
       "        text-align: right;\n",
       "    }\n",
       "</style>\n",
       "<table border=\"1\" class=\"dataframe\">\n",
       "  <thead>\n",
       "    <tr style=\"text-align: right;\">\n",
       "      <th></th>\n",
       "      <th>playlist_id</th>\n",
       "      <th>playlist_name</th>\n",
       "      <th>playlist_total_tracks</th>\n",
       "      <th>owner_id</th>\n",
       "      <th>owner_name</th>\n",
       "      <th>total_followers</th>\n",
       "      <th>genre</th>\n",
       "    </tr>\n",
       "  </thead>\n",
       "  <tbody>\n",
       "  </tbody>\n",
       "</table>\n",
       "</div>"
      ],
      "text/plain": [
       "Empty DataFrame\n",
       "Columns: [playlist_id, playlist_name, playlist_total_tracks, owner_id, owner_name, total_followers, genre]\n",
       "Index: []"
      ]
     },
     "execution_count": 5,
     "metadata": {},
     "output_type": "execute_result"
    }
   ],
   "source": [
    "#check null rows\n",
    "playlist_df[playlist_df.isnull().any(1)]\n",
    "#tracks_df[tracks_df.isnull().any(1)]\n"
   ]
  },
  {
   "cell_type": "code",
   "execution_count": 6,
   "metadata": {
    "ExecuteTime": {
     "end_time": "2020-10-12T16:35:31.963589Z",
     "start_time": "2020-10-12T16:35:31.939614Z"
    }
   },
   "outputs": [
    {
     "data": {
      "text/plain": [
       "(7000, 22)"
      ]
     },
     "execution_count": 6,
     "metadata": {},
     "output_type": "execute_result"
    }
   ],
   "source": [
    "#remove null rows\n",
    "tracks_df = tracks_df[~tracks_df.isnull().any(1)]\n",
    "tracks_df.shape"
   ]
  },
  {
   "cell_type": "code",
   "execution_count": 7,
   "metadata": {
    "ExecuteTime": {
     "end_time": "2020-10-12T16:35:31.972527Z",
     "start_time": "2020-10-12T16:35:31.964546Z"
    }
   },
   "outputs": [
    {
     "data": {
      "text/plain": [
       "6811"
      ]
     },
     "execution_count": 7,
     "metadata": {},
     "output_type": "execute_result"
    }
   ],
   "source": [
    "# How many unique tracks are in the combined dataset?\n",
    "len(tracks_df['track_id'].unique())"
   ]
  },
  {
   "cell_type": "code",
   "execution_count": 8,
   "metadata": {
    "ExecuteTime": {
     "end_time": "2020-10-12T16:35:31.988512Z",
     "start_time": "2020-10-12T16:35:31.974520Z"
    }
   },
   "outputs": [
    {
     "data": {
      "text/plain": [
       "(6811, 22)"
      ]
     },
     "execution_count": 8,
     "metadata": {},
     "output_type": "execute_result"
    }
   ],
   "source": [
    "#retain only distinct tracks per keyword\n",
    "tracks_df =tracks_df.drop_duplicates(subset='track_id')\n",
    "tracks_df.shape"
   ]
  },
  {
   "cell_type": "code",
   "execution_count": 9,
   "metadata": {
    "ExecuteTime": {
     "end_time": "2020-10-12T16:35:32.123160Z",
     "start_time": "2020-10-12T16:35:31.990477Z"
    }
   },
   "outputs": [
    {
     "data": {
      "text/plain": [
       "<matplotlib.axes._subplots.AxesSubplot at 0x1628debd370>"
      ]
     },
     "execution_count": 9,
     "metadata": {},
     "output_type": "execute_result"
    },
    {
     "data": {
      "image/png": "[encoded data removed]",
      "text/plain": [
       "<Figure size 432x288 with 1 Axes>"
      ]
     },
     "metadata": {
      "needs_background": "light"
     },
     "output_type": "display_data"
    }
   ],
   "source": [
    "# What is the distribution of playlist's total tracks?\n",
    "playlist_df['playlist_total_tracks'].hist()"
   ]
  },
  {
   "cell_type": "code",
   "execution_count": 10,
   "metadata": {
    "ExecuteTime": {
     "end_time": "2020-10-12T16:35:32.267737Z",
     "start_time": "2020-10-12T16:35:32.124120Z"
    }
   },
   "outputs": [
    {
     "data": {
      "text/plain": [
       "<matplotlib.axes._subplots.AxesSubplot at 0x1628e60eac0>"
      ]
     },
     "execution_count": 10,
     "metadata": {},
     "output_type": "execute_result"
    },
    {
     "data": {
      "image/png": "[encoded data removed]",
      "text/plain": [
       "<Figure size 432x288 with 1 Axes>"
      ]
     },
     "metadata": {
      "needs_background": "light"
     },
     "output_type": "display_data"
    }
   ],
   "source": [
    "# What is the distribution of playlist's total followers?\n",
    "playlist_df['total_followers'].hist()"
   ]
  },
  {
   "cell_type": "code",
   "execution_count": 11,
   "metadata": {},
   "outputs": [
    {
     "data": {
      "text/plain": [
       "country          1000\n",
       "hiphoprapcons    1000\n",
       "folk              997\n",
       "jazz              985\n",
       "classical         958\n",
       "electronic        946\n",
       "rock              925\n",
       "Name: genre, dtype: int64"
      ]
     },
     "execution_count": 11,
     "metadata": {},
     "output_type": "execute_result"
    }
   ],
   "source": [
    "tracks_df['genre'].value_counts()"
   ]
  },
  {
   "cell_type": "code",
   "execution_count": 12,
   "metadata": {
    "ExecuteTime": {
     "end_time": "2020-10-12T16:35:32.277710Z",
     "start_time": "2020-10-12T16:35:32.268735Z"
    }
   },
   "outputs": [
    {
     "data": {
      "text/plain": [
       "country          0.146821\n",
       "hiphoprapcons    0.146821\n",
       "folk             0.146381\n",
       "jazz             0.144619\n",
       "classical        0.140655\n",
       "electronic       0.138893\n",
       "rock             0.135810\n",
       "Name: genre, dtype: float64"
      ]
     },
     "execution_count": 12,
     "metadata": {},
     "output_type": "execute_result"
    }
   ],
   "source": [
    "#tally of tracks\n",
    "#tracks_df['genre'].value_counts()\n",
    "tracks_df['genre'].value_counts(normalize=True)"
   ]
  },
  {
   "cell_type": "markdown",
   "metadata": {},
   "source": [
    "## 2. Refine the training data"
   ]
  },
  {
   "cell_type": "code",
   "execution_count": 215,
   "metadata": {
    "ExecuteTime": {
     "end_time": "2020-10-12T16:35:32.296659Z",
     "start_time": "2020-10-12T16:35:32.278708Z"
    }
   },
   "outputs": [],
   "source": [
    "#get top playlists\n",
    "#top_playlists_df = playlist_df.groupby('genre').head(5)\n",
    "#top_playlists_df.head()"
   ]
  },
  {
   "cell_type": "code",
   "execution_count": 216,
   "metadata": {
    "ExecuteTime": {
     "end_time": "2020-10-12T16:35:32.311663Z",
     "start_time": "2020-10-12T16:35:32.298654Z"
    }
   },
   "outputs": [],
   "source": [
    "#tracks_df = tracks_df[tracks_df['playlist_id'].isin(top_playlists_df['playlist_id'].values)]\n",
    "#tracks_df['genre'].value_counts()"
   ]
  },
  {
   "cell_type": "markdown",
   "metadata": {},
   "source": [
    "## 3. Feature Engineering"
   ]
  },
  {
   "cell_type": "markdown",
   "metadata": {},
   "source": [
    "##### Conversions/Normalizations"
   ]
  },
  {
   "cell_type": "code",
   "execution_count": 13,
   "metadata": {
    "ExecuteTime": {
     "end_time": "2020-10-12T16:35:32.317603Z",
     "start_time": "2020-10-12T16:35:32.313614Z"
    }
   },
   "outputs": [],
   "source": [
    "#convert duration from ms to mins\n",
    "tracks_df['duration_mins']=tracks_df['duration']/60000"
   ]
  },
  {
   "cell_type": "code",
   "execution_count": 14,
   "metadata": {
    "ExecuteTime": {
     "end_time": "2020-10-12T16:35:32.333560Z",
     "start_time": "2020-10-12T16:35:32.319598Z"
    }
   },
   "outputs": [
    {
     "data": {
      "text/plain": [
       "count    6811.000000\n",
       "mean        0.780758\n",
       "std         0.140160\n",
       "min         0.000000\n",
       "25%         0.718398\n",
       "50%         0.821987\n",
       "75%         0.881778\n",
       "max         1.000000\n",
       "Name: loudness, dtype: float64"
      ]
     },
     "execution_count": 14,
     "metadata": {},
     "output_type": "execute_result"
    }
   ],
   "source": [
    "#Normalize loudness\n",
    "from sklearn.preprocessing import MinMaxScaler\n",
    "scaler = MinMaxScaler()\n",
    "\n",
    "tracks_df['loudness'] = scaler.fit_transform(tracks_df[['loudness']])\n",
    "tracks_df['loudness'].describe()\n"
   ]
  },
  {
   "cell_type": "code",
   "execution_count": 15,
   "metadata": {
    "ExecuteTime": {
     "end_time": "2020-10-12T16:35:32.349518Z",
     "start_time": "2020-10-12T16:35:32.336555Z"
    }
   },
   "outputs": [
    {
     "data": {
      "text/plain": [
       "count    6811.000000\n",
       "mean        0.549836\n",
       "std         0.143414\n",
       "min         0.000000\n",
       "25%         0.434607\n",
       "50%         0.546267\n",
       "75%         0.651976\n",
       "max         1.000000\n",
       "Name: tempo, dtype: float64"
      ]
     },
     "execution_count": 15,
     "metadata": {},
     "output_type": "execute_result"
    }
   ],
   "source": [
    "#Normalize tempo\n",
    "tracks_df['tempo'] =  scaler.fit_transform(tracks_df[['tempo']])\n",
    "#check\n",
    "tracks_df['tempo'].describe()\n"
   ]
  },
  {
   "cell_type": "markdown",
   "metadata": {},
   "source": [
    "###### Categorical Encoding"
   ]
  },
  {
   "cell_type": "code",
   "execution_count": 16,
   "metadata": {
    "ExecuteTime": {
     "end_time": "2020-10-12T16:35:32.360489Z",
     "start_time": "2020-10-12T16:35:32.351515Z"
    }
   },
   "outputs": [
    {
     "data": {
      "text/plain": [
       "track_id              object\n",
       "track_name            object\n",
       "artist_id             object\n",
       "artist_name           object\n",
       "album_id              object\n",
       "duration               int64\n",
       "release_date          object\n",
       "popularity             int64\n",
       "danceability         float64\n",
       "energy               float64\n",
       "key                    int64\n",
       "loudness             float64\n",
       "mode                   int64\n",
       "speechiness          float64\n",
       "acousticness         float64\n",
       "instrumentalness     float64\n",
       "liveness             float64\n",
       "valence              float64\n",
       "tempo                float64\n",
       "playlist_id           object\n",
       "playlist_name         object\n",
       "genre               category\n",
       "duration_mins        float64\n",
       "dtype: object"
      ]
     },
     "execution_count": 16,
     "metadata": {},
     "output_type": "execute_result"
    }
   ],
   "source": [
    "tracks_df[\"genre\"] = tracks_df[\"genre\"].astype('category')\n",
    "tracks_df.dtypes"
   ]
  },
  {
   "cell_type": "code",
   "execution_count": 17,
   "metadata": {
    "ExecuteTime": {
     "end_time": "2020-10-12T16:35:32.388450Z",
     "start_time": "2020-10-12T16:35:32.362484Z"
    }
   },
   "outputs": [
    {
     "data": {
      "text/html": [
       "<div>\n",
       "<style scoped>\n",
       "    .dataframe tbody tr th:only-of-type {\n",
       "        vertical-align: middle;\n",
       "    }\n",
       "\n",
       "    .dataframe tbody tr th {\n",
       "        vertical-align: top;\n",
       "    }\n",
       "\n",
       "    .dataframe thead th {\n",
       "        text-align: right;\n",
       "    }\n",
       "</style>\n",
       "<table border=\"1\" class=\"dataframe\">\n",
       "  <thead>\n",
       "    <tr style=\"text-align: right;\">\n",
       "      <th></th>\n",
       "      <th>track_id</th>\n",
       "      <th>track_name</th>\n",
       "      <th>artist_id</th>\n",
       "      <th>artist_name</th>\n",
       "      <th>album_id</th>\n",
       "      <th>duration</th>\n",
       "      <th>release_date</th>\n",
       "      <th>popularity</th>\n",
       "      <th>danceability</th>\n",
       "      <th>energy</th>\n",
       "      <th>...</th>\n",
       "      <th>acousticness</th>\n",
       "      <th>instrumentalness</th>\n",
       "      <th>liveness</th>\n",
       "      <th>valence</th>\n",
       "      <th>tempo</th>\n",
       "      <th>playlist_id</th>\n",
       "      <th>playlist_name</th>\n",
       "      <th>genre</th>\n",
       "      <th>duration_mins</th>\n",
       "      <th>genre_id</th>\n",
       "    </tr>\n",
       "  </thead>\n",
       "  <tbody>\n",
       "    <tr>\n",
       "      <th>0</th>\n",
       "      <td>70YvYr2hGlS01bKRIho1HM</td>\n",
       "      <td>La Grange - 2005 Remaster</td>\n",
       "      <td>2AM4ilv6UzW0uMRuqKtDgN</td>\n",
       "      <td>ZZ Top</td>\n",
       "      <td>0Em8m9kRctyH9S3MTXAHvY</td>\n",
       "      <td>230480</td>\n",
       "      <td>1973-07-26</td>\n",
       "      <td>75</td>\n",
       "      <td>0.545</td>\n",
       "      <td>0.640</td>\n",
       "      <td>...</td>\n",
       "      <td>0.00249</td>\n",
       "      <td>0.030400</td>\n",
       "      <td>0.1960</td>\n",
       "      <td>0.606</td>\n",
       "      <td>0.381254</td>\n",
       "      <td>37i9dQZF1DWWwzidNQX6jx</td>\n",
       "      <td>70s Rock Anthems</td>\n",
       "      <td>rock</td>\n",
       "      <td>3.841333</td>\n",
       "      <td>6</td>\n",
       "    </tr>\n",
       "    <tr>\n",
       "      <th>1</th>\n",
       "      <td>1oG2vWELiGjIqxwqGcyqwF</td>\n",
       "      <td>You Really Got Me</td>\n",
       "      <td>1SQRv42e4PjEYfPhS0Tk9E</td>\n",
       "      <td>The Kinks</td>\n",
       "      <td>3hXXoaAA09avxBSSxtPIaL</td>\n",
       "      <td>133933</td>\n",
       "      <td>1964-10-02</td>\n",
       "      <td>0</td>\n",
       "      <td>0.567</td>\n",
       "      <td>0.959</td>\n",
       "      <td>...</td>\n",
       "      <td>0.09950</td>\n",
       "      <td>0.000061</td>\n",
       "      <td>0.1000</td>\n",
       "      <td>0.961</td>\n",
       "      <td>0.650271</td>\n",
       "      <td>37i9dQZF1DWXRqgorJj26U</td>\n",
       "      <td>Rock Classics</td>\n",
       "      <td>rock</td>\n",
       "      <td>2.232217</td>\n",
       "      <td>6</td>\n",
       "    </tr>\n",
       "    <tr>\n",
       "      <th>2</th>\n",
       "      <td>3fkPMWQ6cBNBLuFcPyMS8s</td>\n",
       "      <td>Burnin' for You</td>\n",
       "      <td>00tVTdpEhQQw1bqdu8RCx2</td>\n",
       "      <td>Blue Öyster Cult</td>\n",
       "      <td>7v4kEpVtppoMm80m43lGzt</td>\n",
       "      <td>271000</td>\n",
       "      <td>1981-10-23</td>\n",
       "      <td>67</td>\n",
       "      <td>0.532</td>\n",
       "      <td>0.728</td>\n",
       "      <td>...</td>\n",
       "      <td>0.10600</td>\n",
       "      <td>0.010800</td>\n",
       "      <td>0.0849</td>\n",
       "      <td>0.690</td>\n",
       "      <td>0.635721</td>\n",
       "      <td>3Ho3iO0iJykgEQNbjB2sic</td>\n",
       "      <td>Classic Rock 70s 80s 90s, Rock Classics - 70s ...</td>\n",
       "      <td>rock</td>\n",
       "      <td>4.516667</td>\n",
       "      <td>6</td>\n",
       "    </tr>\n",
       "    <tr>\n",
       "      <th>3</th>\n",
       "      <td>1DKAjHZD5QDq9tAwiZhhCX</td>\n",
       "      <td>Bound</td>\n",
       "      <td>37EbZutVi8JaIn1lhFBx45</td>\n",
       "      <td>Ocean Hills</td>\n",
       "      <td>4T4gIMdh94mwbbOaC85qSC</td>\n",
       "      <td>178973</td>\n",
       "      <td>2020-09-25</td>\n",
       "      <td>38</td>\n",
       "      <td>0.409</td>\n",
       "      <td>0.842</td>\n",
       "      <td>...</td>\n",
       "      <td>0.00001</td>\n",
       "      <td>0.039300</td>\n",
       "      <td>0.1820</td>\n",
       "      <td>0.576</td>\n",
       "      <td>0.880091</td>\n",
       "      <td>37i9dQZF1DWWJOmJ7nRx0C</td>\n",
       "      <td>Rock Hard</td>\n",
       "      <td>rock</td>\n",
       "      <td>2.982883</td>\n",
       "      <td>6</td>\n",
       "    </tr>\n",
       "    <tr>\n",
       "      <th>4</th>\n",
       "      <td>1dJuteDIOkGfDSN7zPkzNv</td>\n",
       "      <td>She Don't Use Jelly</td>\n",
       "      <td>16eRpMNXSQ15wuJoeqguaB</td>\n",
       "      <td>The Flaming Lips</td>\n",
       "      <td>0rr668ZzoNDQa1yxhSpBAw</td>\n",
       "      <td>222278</td>\n",
       "      <td>1993-06-18</td>\n",
       "      <td>61</td>\n",
       "      <td>0.330</td>\n",
       "      <td>0.556</td>\n",
       "      <td>...</td>\n",
       "      <td>0.20700</td>\n",
       "      <td>0.000044</td>\n",
       "      <td>0.3150</td>\n",
       "      <td>0.506</td>\n",
       "      <td>0.822812</td>\n",
       "      <td>37i9dQZF1DX1rVvRgjX59F</td>\n",
       "      <td>90s Rock Anthems</td>\n",
       "      <td>rock</td>\n",
       "      <td>3.704633</td>\n",
       "      <td>6</td>\n",
       "    </tr>\n",
       "  </tbody>\n",
       "</table>\n",
       "<p>5 rows × 24 columns</p>\n",
       "</div>"
      ],
      "text/plain": [
       "                 track_id                 track_name               artist_id  \\\n",
       "0  70YvYr2hGlS01bKRIho1HM  La Grange - 2005 Remaster  2AM4ilv6UzW0uMRuqKtDgN   \n",
       "1  1oG2vWELiGjIqxwqGcyqwF          You Really Got Me  1SQRv42e4PjEYfPhS0Tk9E   \n",
       "2  3fkPMWQ6cBNBLuFcPyMS8s            Burnin' for You  00tVTdpEhQQw1bqdu8RCx2   \n",
       "3  1DKAjHZD5QDq9tAwiZhhCX                      Bound  37EbZutVi8JaIn1lhFBx45   \n",
       "4  1dJuteDIOkGfDSN7zPkzNv        She Don't Use Jelly  16eRpMNXSQ15wuJoeqguaB   \n",
       "\n",
       "        artist_name                album_id  duration release_date  \\\n",
       "0            ZZ Top  0Em8m9kRctyH9S3MTXAHvY    230480   1973-07-26   \n",
       "1         The Kinks  3hXXoaAA09avxBSSxtPIaL    133933   1964-10-02   \n",
       "2  Blue Öyster Cult  7v4kEpVtppoMm80m43lGzt    271000   1981-10-23   \n",
       "3       Ocean Hills  4T4gIMdh94mwbbOaC85qSC    178973   2020-09-25   \n",
       "4  The Flaming Lips  0rr668ZzoNDQa1yxhSpBAw    222278   1993-06-18   \n",
       "\n",
       "   popularity  danceability  energy  ...  acousticness  instrumentalness  \\\n",
       "0          75         0.545   0.640  ...       0.00249          0.030400   \n",
       "1           0         0.567   0.959  ...       0.09950          0.000061   \n",
       "2          67         0.532   0.728  ...       0.10600          0.010800   \n",
       "3          38         0.409   0.842  ...       0.00001          0.039300   \n",
       "4          61         0.330   0.556  ...       0.20700          0.000044   \n",
       "\n",
       "   liveness  valence     tempo             playlist_id  \\\n",
       "0    0.1960    0.606  0.381254  37i9dQZF1DWWwzidNQX6jx   \n",
       "1    0.1000    0.961  0.650271  37i9dQZF1DWXRqgorJj26U   \n",
       "2    0.0849    0.690  0.635721  3Ho3iO0iJykgEQNbjB2sic   \n",
       "3    0.1820    0.576  0.880091  37i9dQZF1DWWJOmJ7nRx0C   \n",
       "4    0.3150    0.506  0.822812  37i9dQZF1DX1rVvRgjX59F   \n",
       "\n",
       "                                       playlist_name  genre  duration_mins  \\\n",
       "0                                   70s Rock Anthems   rock       3.841333   \n",
       "1                                      Rock Classics   rock       2.232217   \n",
       "2  Classic Rock 70s 80s 90s, Rock Classics - 70s ...   rock       4.516667   \n",
       "3                                          Rock Hard   rock       2.982883   \n",
       "4                                   90s Rock Anthems   rock       3.704633   \n",
       "\n",
       "  genre_id  \n",
       "0        6  \n",
       "1        6  \n",
       "2        6  \n",
       "3        6  \n",
       "4        6  \n",
       "\n",
       "[5 rows x 24 columns]"
      ]
     },
     "execution_count": 17,
     "metadata": {},
     "output_type": "execute_result"
    }
   ],
   "source": [
    "tracks_df['genre_id'] = tracks_df[\"genre\"].cat.codes\n",
    "tracks_df.head()"
   ]
  },
  {
   "cell_type": "code",
   "execution_count": 18,
   "metadata": {
    "ExecuteTime": {
     "end_time": "2020-10-12T16:35:32.398514Z",
     "start_time": "2020-10-12T16:35:32.389410Z"
    }
   },
   "outputs": [
    {
     "data": {
      "text/plain": [
       "{6: 'rock',\n",
       " 4: 'hiphoprapcons',\n",
       " 1: 'country',\n",
       " 5: 'jazz',\n",
       " 0: 'classical',\n",
       " 2: 'electronic',\n",
       " 3: 'folk'}"
      ]
     },
     "execution_count": 18,
     "metadata": {},
     "output_type": "execute_result"
    }
   ],
   "source": [
    "genre_lookup = dict(tracks_df.groupby('genre_id').head(1)[['genre_id','genre']].values)\n",
    "genre_lookup"
   ]
  },
  {
   "cell_type": "markdown",
   "metadata": {},
   "source": [
    "## 4. Train a KNN model"
   ]
  },
  {
   "cell_type": "code",
   "execution_count": 19,
   "metadata": {
    "ExecuteTime": {
     "end_time": "2020-10-12T16:35:32.406367Z",
     "start_time": "2020-10-12T16:35:32.401380Z"
    }
   },
   "outputs": [],
   "source": [
    "from sklearn.model_selection import train_test_split, cross_val_score\n",
    "from sklearn.neighbors import KNeighborsClassifier \n",
    "from sklearn.metrics import accuracy_score,roc_curve, auc, confusion_matrix, classification_report"
   ]
  },
  {
   "cell_type": "code",
   "execution_count": 224,
   "metadata": {
    "ExecuteTime": {
     "end_time": "2020-10-12T16:35:32.412351Z",
     "start_time": "2020-10-12T16:35:32.407362Z"
    }
   },
   "outputs": [],
   "source": [
    "#test plot for a genre and 2 predictors\n",
    "\n",
    "#fig = plt.figure()\n",
    "#ax= fig.add_subplot(111)\n",
    "\n",
    "#colormaps = ['Reds','Blues']\n",
    "#genre = 'pop'\n",
    "#label = [\"not \"+genre,genre]\n",
    "#for n,genre_bool in enumerate([0,1]):\n",
    "#    df=tracks_df[tracks_df['genre_'+genre]==genre_bool]\n",
    "#    sns.kdeplot(df['energy'],df['tempo'], ax=ax,\\\n",
    "#                shade=True, shade_lowest=False, alpha=0.5, cmap=colormaps[n],\\\n",
    "#                label=label[n])\n",
    "    \n",
    "#plt.legend(frameon=False)\n"
   ]
  },
  {
   "cell_type": "markdown",
   "metadata": {},
   "source": [
    "Tuning the model"
   ]
  },
  {
   "cell_type": "code",
   "execution_count": 20,
   "metadata": {
    "ExecuteTime": {
     "end_time": "2020-10-12T16:36:04.624209Z",
     "start_time": "2020-10-12T16:35:32.413347Z"
    },
    "scrolled": true
   },
   "outputs": [
    {
     "name": "stdout",
     "output_type": "stream",
     "text": [
      "\n",
      "Tuning kNN classification model with K-Fold=4...\n",
      "Shape of X_Train:(5448, 9)\n",
      "Shape of y_Train:(5448,)\n",
      "Shape of X_Test:(1363, 9)\n",
      "Shape of y_Test:(1363,)\n",
      "Finding best k...\n"
     ]
    },
    {
     "data": {
      "image/png": "[encoded data removed]",
      "text/plain": [
       "<Figure size 432x288 with 1 Axes>"
      ]
     },
     "metadata": {
      "needs_background": "light"
     },
     "output_type": "display_data"
    },
    {
     "name": "stdout",
     "output_type": "stream",
     "text": [
      "The optimal number of neighbors is 25 with score 57%\n",
      "\n",
      "Tuning kNN classification model with K-Fold=5...\n",
      "Shape of X_Train:(5448, 9)\n",
      "Shape of y_Train:(5448,)\n",
      "Shape of X_Test:(1363, 9)\n",
      "Shape of y_Test:(1363,)\n",
      "Finding best k...\n"
     ]
    },
    {
     "data": {
      "image/png": "[encoded data removed]",
      "text/plain": [
       "<Figure size 432x288 with 1 Axes>"
      ]
     },
     "metadata": {
      "needs_background": "light"
     },
     "output_type": "display_data"
    },
    {
     "name": "stdout",
     "output_type": "stream",
     "text": [
      "The optimal number of neighbors is 23 with score 57%\n",
      "\n",
      "Tuning kNN classification model with K-Fold=8...\n",
      "Shape of X_Train:(5448, 9)\n",
      "Shape of y_Train:(5448,)\n",
      "Shape of X_Test:(1363, 9)\n",
      "Shape of y_Test:(1363,)\n",
      "Finding best k...\n"
     ]
    },
    {
     "data": {
      "image/png": "[encoded data removed]",
      "text/plain": [
       "<Figure size 432x288 with 1 Axes>"
      ]
     },
     "metadata": {
      "needs_background": "light"
     },
     "output_type": "display_data"
    },
    {
     "name": "stdout",
     "output_type": "stream",
     "text": [
      "The optimal number of neighbors is 41 with score 57%\n",
      "\n",
      "Tuning kNN classification model with K-Fold=10...\n",
      "Shape of X_Train:(5448, 9)\n",
      "Shape of y_Train:(5448,)\n",
      "Shape of X_Test:(1363, 9)\n",
      "Shape of y_Test:(1363,)\n",
      "Finding best k...\n"
     ]
    },
    {
     "data": {
      "image/png": "[encoded data removed]",
      "text/plain": [
       "<Figure size 432x288 with 1 Axes>"
      ]
     },
     "metadata": {
      "needs_background": "light"
     },
     "output_type": "display_data"
    },
    {
     "name": "stdout",
     "output_type": "stream",
     "text": [
      "The optimal number of neighbors is 25 with score 57%\n"
     ]
    }
   ],
   "source": [
    "#Select audio features to use for the model\n",
    "feature_cols = ['danceability', 'energy', 'loudness', 'speechiness', 'acousticness', 'instrumentalness', 'liveness', 'valence', 'tempo']\n",
    "results_optimal_k = []\n",
    "\n",
    "kfolds= [4,5,8,10]\n",
    "\n",
    "for d in kfolds:\n",
    "    print('\\nTuning kNN classification model with K-Fold=%d...' % d)\n",
    "    # create feature matrix (X)\n",
    "    X = tracks_df[feature_cols]\n",
    "    y = tracks_df['genre_id']\n",
    "\n",
    "    # creating training set, test set and checking shapes \n",
    "    X_train,X_test,Y_train,Y_test = train_test_split(X,y, test_size=0.2)\n",
    "    print(\"Shape of X_Train:\"+str(X_train.shape))\n",
    "    print(\"Shape of y_Train:\"+str(Y_train.shape))\n",
    "    print(\"Shape of X_Test:\"+str(X_test.shape))\n",
    "    print(\"Shape of y_Test:\"+str(Y_test.shape))\n",
    "    \n",
    "    #train model\n",
    "    cv_scores = []\n",
    "    neighbors=np.arange(2,51)\n",
    "    print('Finding best k...')\n",
    "    \n",
    "    #Perform KNN using K= [1..50] and validate using k-fold k = 5\n",
    "    for k in neighbors:\n",
    "        #print('Fitting for k=%d' % k)\n",
    "        knn = KNeighborsClassifier(n_neighbors=k)\n",
    "        scores = cross_val_score(knn, X_train, Y_train, cv=5, scoring='accuracy')\n",
    "        cv_scores.append(scores.mean())\n",
    "        \n",
    "    # changeto misclassification error\n",
    "    mse = [1 - x for x in cv_scores]\n",
    "\n",
    "    # determining best k\n",
    "    optimal_k = neighbors[mse.index(min(mse))]\n",
    "    results_optimal_k.append(optimal_k)\n",
    "    \n",
    "    knn_optimal = KNeighborsClassifier(n_neighbors=k)\n",
    "    knn_optimal.fit(X, y)\n",
    "    # plot misclassification error vs k\n",
    "    plt.plot(neighbors, mse)\n",
    "    plt.xlabel(\"Number of Neighbors K\")\n",
    "    plt.ylabel(\"Misclassification Error\")\n",
    "    plt.show()\n",
    "    \n",
    "    print(\"The optimal number of neighbors is %d with score %d%%\" % (optimal_k, 100*(1-min(mse))))\n"
   ]
  },
  {
   "cell_type": "code",
   "execution_count": 21,
   "metadata": {
    "ExecuteTime": {
     "end_time": "2020-10-12T16:36:04.632185Z",
     "start_time": "2020-10-12T16:36:04.626203Z"
    }
   },
   "outputs": [
    {
     "data": {
      "text/plain": [
       "[25, 23, 41, 25]"
      ]
     },
     "execution_count": 21,
     "metadata": {},
     "output_type": "execute_result"
    }
   ],
   "source": [
    "#results_optimal_k = [38, 33, 17, 21, 13, 46, 26, 27, 10, 26]\n",
    "results_optimal_k"
   ]
  },
  {
   "cell_type": "markdown",
   "metadata": {},
   "source": [
    "## 5. Model Prediction"
   ]
  },
  {
   "cell_type": "code",
   "execution_count": 25,
   "metadata": {
    "ExecuteTime": {
     "end_time": "2020-10-12T17:48:18.867539Z",
     "start_time": "2020-10-12T17:48:18.834573Z"
    },
    "scrolled": true
   },
   "outputs": [
    {
     "data": {
      "text/html": [
       "<div>\n",
       "<style scoped>\n",
       "    .dataframe tbody tr th:only-of-type {\n",
       "        vertical-align: middle;\n",
       "    }\n",
       "\n",
       "    .dataframe tbody tr th {\n",
       "        vertical-align: top;\n",
       "    }\n",
       "\n",
       "    .dataframe thead th {\n",
       "        text-align: right;\n",
       "    }\n",
       "</style>\n",
       "<table border=\"1\" class=\"dataframe\">\n",
       "  <thead>\n",
       "    <tr style=\"text-align: right;\">\n",
       "      <th></th>\n",
       "      <th>track_id</th>\n",
       "      <th>track_name</th>\n",
       "      <th>artist_id</th>\n",
       "      <th>artist_name</th>\n",
       "      <th>album_id</th>\n",
       "      <th>duration</th>\n",
       "      <th>release_date</th>\n",
       "      <th>popularity</th>\n",
       "      <th>danceability</th>\n",
       "      <th>energy</th>\n",
       "      <th>key</th>\n",
       "      <th>loudness</th>\n",
       "      <th>mode</th>\n",
       "      <th>speechiness</th>\n",
       "      <th>acousticness</th>\n",
       "      <th>instrumentalness</th>\n",
       "      <th>liveness</th>\n",
       "      <th>valence</th>\n",
       "      <th>tempo</th>\n",
       "    </tr>\n",
       "  </thead>\n",
       "  <tbody>\n",
       "    <tr>\n",
       "      <th>0</th>\n",
       "      <td>6IdEQ3HUseBeRUYFSzSMdL</td>\n",
       "      <td>Zebbiana</td>\n",
       "      <td>117XFtbZPnCI1EYKjYZWJc</td>\n",
       "      <td>Skusta Clee</td>\n",
       "      <td>4AaygWd1ZnCzZ4ak9EM23s</td>\n",
       "      <td>304664</td>\n",
       "      <td>2019-07-26</td>\n",
       "      <td>64</td>\n",
       "      <td>0.677</td>\n",
       "      <td>0.433</td>\n",
       "      <td>8</td>\n",
       "      <td>-8.518</td>\n",
       "      <td>1</td>\n",
       "      <td>0.0370</td>\n",
       "      <td>0.5450</td>\n",
       "      <td>0.000000</td>\n",
       "      <td>0.1050</td>\n",
       "      <td>0.498</td>\n",
       "      <td>134.006</td>\n",
       "    </tr>\n",
       "    <tr>\n",
       "      <th>1</th>\n",
       "      <td>6v3KW9xbzN5yKLt9YKDYA2</td>\n",
       "      <td>Señorita</td>\n",
       "      <td>7n2wHs1TKAczGzO7Dd2rGr</td>\n",
       "      <td>Shawn Mendes</td>\n",
       "      <td>0xzScN8P3hQAz3BT3YYX5w</td>\n",
       "      <td>190799</td>\n",
       "      <td>2019-06-19</td>\n",
       "      <td>82</td>\n",
       "      <td>0.759</td>\n",
       "      <td>0.548</td>\n",
       "      <td>9</td>\n",
       "      <td>-6.049</td>\n",
       "      <td>0</td>\n",
       "      <td>0.0290</td>\n",
       "      <td>0.0392</td>\n",
       "      <td>0.000000</td>\n",
       "      <td>0.0828</td>\n",
       "      <td>0.749</td>\n",
       "      <td>116.967</td>\n",
       "    </tr>\n",
       "    <tr>\n",
       "      <th>2</th>\n",
       "      <td>1dGr1c8CrMLDpV6mPbImSI</td>\n",
       "      <td>Lover</td>\n",
       "      <td>06HL4z0CvFAxyc27GXpf02</td>\n",
       "      <td>Taylor Swift</td>\n",
       "      <td>1NAmidJlEaVgA3MpcPFYGq</td>\n",
       "      <td>221306</td>\n",
       "      <td>2019-08-23</td>\n",
       "      <td>79</td>\n",
       "      <td>0.359</td>\n",
       "      <td>0.543</td>\n",
       "      <td>7</td>\n",
       "      <td>-7.582</td>\n",
       "      <td>1</td>\n",
       "      <td>0.0919</td>\n",
       "      <td>0.4920</td>\n",
       "      <td>0.000016</td>\n",
       "      <td>0.1180</td>\n",
       "      <td>0.453</td>\n",
       "      <td>68.534</td>\n",
       "    </tr>\n",
       "    <tr>\n",
       "      <th>3</th>\n",
       "      <td>0gDRtumoR9ZrvAlnniToMz</td>\n",
       "      <td>Ikaw At Ako</td>\n",
       "      <td>0rZRTXEmmPmx6gt92tBqIc</td>\n",
       "      <td>Moira Dela Torre</td>\n",
       "      <td>397zfeJ75BlnjfUEkgtwlG</td>\n",
       "      <td>269876</td>\n",
       "      <td>2019-01-14</td>\n",
       "      <td>64</td>\n",
       "      <td>0.445</td>\n",
       "      <td>0.355</td>\n",
       "      <td>4</td>\n",
       "      <td>-7.351</td>\n",
       "      <td>1</td>\n",
       "      <td>0.0289</td>\n",
       "      <td>0.8870</td>\n",
       "      <td>0.001790</td>\n",
       "      <td>0.3220</td>\n",
       "      <td>0.366</td>\n",
       "      <td>135.525</td>\n",
       "    </tr>\n",
       "    <tr>\n",
       "      <th>4</th>\n",
       "      <td>5l9g7py8RCblcvbZgGQgSd</td>\n",
       "      <td>Pagtingin</td>\n",
       "      <td>4DAcJXcjX0zlQAZAPAx4Zb</td>\n",
       "      <td>Ben&amp;Ben</td>\n",
       "      <td>7xCcuTA3abKwxj8HwgxP7R</td>\n",
       "      <td>227370</td>\n",
       "      <td>2019-05-12</td>\n",
       "      <td>68</td>\n",
       "      <td>0.669</td>\n",
       "      <td>0.420</td>\n",
       "      <td>2</td>\n",
       "      <td>-8.464</td>\n",
       "      <td>1</td>\n",
       "      <td>0.0253</td>\n",
       "      <td>0.5060</td>\n",
       "      <td>0.000000</td>\n",
       "      <td>0.4040</td>\n",
       "      <td>0.523</td>\n",
       "      <td>95.049</td>\n",
       "    </tr>\n",
       "  </tbody>\n",
       "</table>\n",
       "</div>"
      ],
      "text/plain": [
       "                 track_id   track_name               artist_id  \\\n",
       "0  6IdEQ3HUseBeRUYFSzSMdL     Zebbiana  117XFtbZPnCI1EYKjYZWJc   \n",
       "1  6v3KW9xbzN5yKLt9YKDYA2     Señorita  7n2wHs1TKAczGzO7Dd2rGr   \n",
       "2  1dGr1c8CrMLDpV6mPbImSI        Lover  06HL4z0CvFAxyc27GXpf02   \n",
       "3  0gDRtumoR9ZrvAlnniToMz  Ikaw At Ako  0rZRTXEmmPmx6gt92tBqIc   \n",
       "4  5l9g7py8RCblcvbZgGQgSd    Pagtingin  4DAcJXcjX0zlQAZAPAx4Zb   \n",
       "\n",
       "        artist_name                album_id  duration release_date  \\\n",
       "0       Skusta Clee  4AaygWd1ZnCzZ4ak9EM23s    304664   2019-07-26   \n",
       "1      Shawn Mendes  0xzScN8P3hQAz3BT3YYX5w    190799   2019-06-19   \n",
       "2      Taylor Swift  1NAmidJlEaVgA3MpcPFYGq    221306   2019-08-23   \n",
       "3  Moira Dela Torre  397zfeJ75BlnjfUEkgtwlG    269876   2019-01-14   \n",
       "4           Ben&Ben  7xCcuTA3abKwxj8HwgxP7R    227370   2019-05-12   \n",
       "\n",
       "   popularity  danceability  energy  key  loudness  mode  speechiness  \\\n",
       "0          64         0.677   0.433    8    -8.518     1       0.0370   \n",
       "1          82         0.759   0.548    9    -6.049     0       0.0290   \n",
       "2          79         0.359   0.543    7    -7.582     1       0.0919   \n",
       "3          64         0.445   0.355    4    -7.351     1       0.0289   \n",
       "4          68         0.669   0.420    2    -8.464     1       0.0253   \n",
       "\n",
       "   acousticness  instrumentalness  liveness  valence    tempo  \n",
       "0        0.5450          0.000000    0.1050    0.498  134.006  \n",
       "1        0.0392          0.000000    0.0828    0.749  116.967  \n",
       "2        0.4920          0.000016    0.1180    0.453   68.534  \n",
       "3        0.8870          0.001790    0.3220    0.366  135.525  \n",
       "4        0.5060          0.000000    0.4040    0.523   95.049  "
      ]
     },
     "execution_count": 25,
     "metadata": {},
     "output_type": "execute_result"
    }
   ],
   "source": [
    "chart_tracks_df = pd.read_csv(\"https://raw.githubusercontent.com/knocom/Sprint3_SpotifyRecommenderEngine/main/spotify_daily_charts_tracks.csv\")\n",
    "chart_tracks_df.head()"
   ]
  },
  {
   "cell_type": "code",
   "execution_count": 26,
   "metadata": {
    "ExecuteTime": {
     "end_time": "2020-10-12T17:48:19.167896Z",
     "start_time": "2020-10-12T17:48:19.154702Z"
    }
   },
   "outputs": [],
   "source": [
    "#normalize loudness and tempo\n",
    "chart_tracks_df['loudness'] = scaler.fit_transform(chart_tracks_df[['loudness']])\n",
    "chart_tracks_df['tempo'] =  scaler.fit_transform(chart_tracks_df[['tempo']])"
   ]
  },
  {
   "cell_type": "markdown",
   "metadata": {},
   "source": [
    "Test the model with external data by predicting the genres of the spotify charting tracks!"
   ]
  },
  {
   "cell_type": "code",
   "execution_count": 29,
   "metadata": {
    "ExecuteTime": {
     "end_time": "2020-10-12T17:48:26.905646Z",
     "start_time": "2020-10-12T17:48:19.757995Z"
    },
    "scrolled": true
   },
   "outputs": [
    {
     "name": "stdout",
     "output_type": "stream",
     "text": [
      "Predicting with optimal k: 23\n"
     ]
    }
   ],
   "source": [
    "#Predict genres of the spotify charts\n",
    "feature_cols = ['danceability', 'energy', 'loudness', 'speechiness', 'acousticness', 'instrumentalness', 'liveness', 'valence', 'tempo']\n",
    "genres = [genre_lookup[i] for i in np.arange(len(genre_names))]\n",
    "\n",
    "n=1 #pick kfold=5\n",
    "print(\"Predicting with optimal k: %d\" %(results_optimal_k[n]))\n",
    "\n",
    "knn_optimal = KNeighborsClassifier(n_neighbors=results_optimal_k[n])\n",
    "X = tracks_df[feature_cols]\n",
    "y = tracks_df['genre_id']\n",
    "knn_optimal.fit(X, y)\n",
    "\n",
    "chart_tracks_df['predicted_genre_id'] = chart_tracks_df.apply(lambda x:  knn_optimal.predict(x[feature_cols].values.reshape(1,-1))[0]\\\n",
    "                                               , axis=1)\n",
    "chart_tracks_df['predicted_genre'] = chart_tracks_df['predicted_genre_id'].apply(lambda x: genre_lookup[x])\n",
    "chart_tracks_df['predicted_genre_prob'] = chart_tracks_df.apply(lambda x:  np.max(knn_optimal.predict_proba(x[feature_cols].values.reshape(1,-1)))\\\n",
    "                                                    , axis=1)\n",
    "chart_tracks_df['all_genre_prob'] = chart_tracks_df.apply(lambda x:  knn_optimal.predict_proba(x[feature_cols].values.reshape(1,-1))[0]\\\n",
    "                                                    , axis=1)\n"
   ]
  },
  {
   "cell_type": "code",
   "execution_count": 30,
   "metadata": {},
   "outputs": [
    {
     "data": {
      "text/html": [
       "<div>\n",
       "<style scoped>\n",
       "    .dataframe tbody tr th:only-of-type {\n",
       "        vertical-align: middle;\n",
       "    }\n",
       "\n",
       "    .dataframe tbody tr th {\n",
       "        vertical-align: top;\n",
       "    }\n",
       "\n",
       "    .dataframe thead th {\n",
       "        text-align: right;\n",
       "    }\n",
       "</style>\n",
       "<table border=\"1\" class=\"dataframe\">\n",
       "  <thead>\n",
       "    <tr style=\"text-align: right;\">\n",
       "      <th></th>\n",
       "      <th>track_id</th>\n",
       "      <th>track_name</th>\n",
       "      <th>artist_id</th>\n",
       "      <th>artist_name</th>\n",
       "      <th>album_id</th>\n",
       "      <th>duration</th>\n",
       "      <th>release_date</th>\n",
       "      <th>popularity</th>\n",
       "      <th>danceability</th>\n",
       "      <th>energy</th>\n",
       "      <th>...</th>\n",
       "      <th>speechiness</th>\n",
       "      <th>acousticness</th>\n",
       "      <th>instrumentalness</th>\n",
       "      <th>liveness</th>\n",
       "      <th>valence</th>\n",
       "      <th>tempo</th>\n",
       "      <th>predicted_genre_id</th>\n",
       "      <th>predicted_genre</th>\n",
       "      <th>predicted_genre_prob</th>\n",
       "      <th>all_genre_prob</th>\n",
       "    </tr>\n",
       "  </thead>\n",
       "  <tbody>\n",
       "    <tr>\n",
       "      <th>0</th>\n",
       "      <td>6IdEQ3HUseBeRUYFSzSMdL</td>\n",
       "      <td>Zebbiana</td>\n",
       "      <td>117XFtbZPnCI1EYKjYZWJc</td>\n",
       "      <td>Skusta Clee</td>\n",
       "      <td>4AaygWd1ZnCzZ4ak9EM23s</td>\n",
       "      <td>304664</td>\n",
       "      <td>2019-07-26</td>\n",
       "      <td>64</td>\n",
       "      <td>0.677</td>\n",
       "      <td>0.433</td>\n",
       "      <td>...</td>\n",
       "      <td>0.0370</td>\n",
       "      <td>0.54500</td>\n",
       "      <td>0.000000</td>\n",
       "      <td>0.1050</td>\n",
       "      <td>0.498</td>\n",
       "      <td>0.525706</td>\n",
       "      <td>1</td>\n",
       "      <td>country</td>\n",
       "      <td>0.347826</td>\n",
       "      <td>[0.0, 0.34782608695652173, 0.0, 0.304347826086...</td>\n",
       "    </tr>\n",
       "    <tr>\n",
       "      <th>1</th>\n",
       "      <td>6v3KW9xbzN5yKLt9YKDYA2</td>\n",
       "      <td>Señorita</td>\n",
       "      <td>7n2wHs1TKAczGzO7Dd2rGr</td>\n",
       "      <td>Shawn Mendes</td>\n",
       "      <td>0xzScN8P3hQAz3BT3YYX5w</td>\n",
       "      <td>190799</td>\n",
       "      <td>2019-06-19</td>\n",
       "      <td>82</td>\n",
       "      <td>0.759</td>\n",
       "      <td>0.548</td>\n",
       "      <td>...</td>\n",
       "      <td>0.0290</td>\n",
       "      <td>0.03920</td>\n",
       "      <td>0.000000</td>\n",
       "      <td>0.0828</td>\n",
       "      <td>0.749</td>\n",
       "      <td>0.415709</td>\n",
       "      <td>4</td>\n",
       "      <td>hiphoprapcons</td>\n",
       "      <td>0.391304</td>\n",
       "      <td>[0.0, 0.17391304347826086, 0.0, 0.086956521739...</td>\n",
       "    </tr>\n",
       "    <tr>\n",
       "      <th>2</th>\n",
       "      <td>1dGr1c8CrMLDpV6mPbImSI</td>\n",
       "      <td>Lover</td>\n",
       "      <td>06HL4z0CvFAxyc27GXpf02</td>\n",
       "      <td>Taylor Swift</td>\n",
       "      <td>1NAmidJlEaVgA3MpcPFYGq</td>\n",
       "      <td>221306</td>\n",
       "      <td>2019-08-23</td>\n",
       "      <td>79</td>\n",
       "      <td>0.359</td>\n",
       "      <td>0.543</td>\n",
       "      <td>...</td>\n",
       "      <td>0.0919</td>\n",
       "      <td>0.49200</td>\n",
       "      <td>0.000016</td>\n",
       "      <td>0.1180</td>\n",
       "      <td>0.453</td>\n",
       "      <td>0.103044</td>\n",
       "      <td>3</td>\n",
       "      <td>folk</td>\n",
       "      <td>0.391304</td>\n",
       "      <td>[0.0, 0.30434782608695654, 0.0, 0.391304347826...</td>\n",
       "    </tr>\n",
       "    <tr>\n",
       "      <th>3</th>\n",
       "      <td>0gDRtumoR9ZrvAlnniToMz</td>\n",
       "      <td>Ikaw At Ako</td>\n",
       "      <td>0rZRTXEmmPmx6gt92tBqIc</td>\n",
       "      <td>Moira Dela Torre</td>\n",
       "      <td>397zfeJ75BlnjfUEkgtwlG</td>\n",
       "      <td>269876</td>\n",
       "      <td>2019-01-14</td>\n",
       "      <td>64</td>\n",
       "      <td>0.445</td>\n",
       "      <td>0.355</td>\n",
       "      <td>...</td>\n",
       "      <td>0.0289</td>\n",
       "      <td>0.88700</td>\n",
       "      <td>0.001790</td>\n",
       "      <td>0.3220</td>\n",
       "      <td>0.366</td>\n",
       "      <td>0.535512</td>\n",
       "      <td>3</td>\n",
       "      <td>folk</td>\n",
       "      <td>0.434783</td>\n",
       "      <td>[0.17391304347826086, 0.2608695652173913, 0.0,...</td>\n",
       "    </tr>\n",
       "    <tr>\n",
       "      <th>4</th>\n",
       "      <td>5l9g7py8RCblcvbZgGQgSd</td>\n",
       "      <td>Pagtingin</td>\n",
       "      <td>4DAcJXcjX0zlQAZAPAx4Zb</td>\n",
       "      <td>Ben&amp;Ben</td>\n",
       "      <td>7xCcuTA3abKwxj8HwgxP7R</td>\n",
       "      <td>227370</td>\n",
       "      <td>2019-05-12</td>\n",
       "      <td>68</td>\n",
       "      <td>0.669</td>\n",
       "      <td>0.420</td>\n",
       "      <td>...</td>\n",
       "      <td>0.0253</td>\n",
       "      <td>0.50600</td>\n",
       "      <td>0.000000</td>\n",
       "      <td>0.4040</td>\n",
       "      <td>0.523</td>\n",
       "      <td>0.274215</td>\n",
       "      <td>1</td>\n",
       "      <td>country</td>\n",
       "      <td>0.391304</td>\n",
       "      <td>[0.0, 0.391304347826087, 0.0, 0.26086956521739...</td>\n",
       "    </tr>\n",
       "    <tr>\n",
       "      <th>...</th>\n",
       "      <td>...</td>\n",
       "      <td>...</td>\n",
       "      <td>...</td>\n",
       "      <td>...</td>\n",
       "      <td>...</td>\n",
       "      <td>...</td>\n",
       "      <td>...</td>\n",
       "      <td>...</td>\n",
       "      <td>...</td>\n",
       "      <td>...</td>\n",
       "      <td>...</td>\n",
       "      <td>...</td>\n",
       "      <td>...</td>\n",
       "      <td>...</td>\n",
       "      <td>...</td>\n",
       "      <td>...</td>\n",
       "      <td>...</td>\n",
       "      <td>...</td>\n",
       "      <td>...</td>\n",
       "      <td>...</td>\n",
       "      <td>...</td>\n",
       "    </tr>\n",
       "    <tr>\n",
       "      <th>1056</th>\n",
       "      <td>0zzVTGyRrWpQu8Fr28NRAv</td>\n",
       "      <td>OK Not To Be OK</td>\n",
       "      <td>64KEffDW9EtZ1y2vBYgq8T</td>\n",
       "      <td>Marshmello</td>\n",
       "      <td>3wCtCJ8O6SlGBWYfzAlsb2</td>\n",
       "      <td>159862</td>\n",
       "      <td>2020-09-10</td>\n",
       "      <td>85</td>\n",
       "      <td>0.743</td>\n",
       "      <td>0.837</td>\n",
       "      <td>...</td>\n",
       "      <td>0.0649</td>\n",
       "      <td>0.01720</td>\n",
       "      <td>0.000000</td>\n",
       "      <td>0.0743</td>\n",
       "      <td>0.263</td>\n",
       "      <td>0.326008</td>\n",
       "      <td>4</td>\n",
       "      <td>hiphoprapcons</td>\n",
       "      <td>0.565217</td>\n",
       "      <td>[0.0, 0.30434782608695654, 0.04347826086956521...</td>\n",
       "    </tr>\n",
       "    <tr>\n",
       "      <th>1057</th>\n",
       "      <td>4G7uzhxgKFBCJApBpuuBgU</td>\n",
       "      <td>Kabet</td>\n",
       "      <td>3ID2V4b0oGSEbwPENAsdbG</td>\n",
       "      <td>Gagong Rapper</td>\n",
       "      <td>0bFldkQiVA9IiOch2GHQGq</td>\n",
       "      <td>318040</td>\n",
       "      <td>2020-09-07</td>\n",
       "      <td>59</td>\n",
       "      <td>0.721</td>\n",
       "      <td>0.742</td>\n",
       "      <td>...</td>\n",
       "      <td>0.0377</td>\n",
       "      <td>0.67000</td>\n",
       "      <td>0.000001</td>\n",
       "      <td>0.1210</td>\n",
       "      <td>0.308</td>\n",
       "      <td>0.177013</td>\n",
       "      <td>3</td>\n",
       "      <td>folk</td>\n",
       "      <td>0.347826</td>\n",
       "      <td>[0.0, 0.30434782608695654, 0.04347826086956521...</td>\n",
       "    </tr>\n",
       "    <tr>\n",
       "      <th>1058</th>\n",
       "      <td>3KUGAgxo3b81X5bWoOp0U8</td>\n",
       "      <td>Back Door</td>\n",
       "      <td>2dIgFjalVxs4ThymZ67YCE</td>\n",
       "      <td>Stray Kids</td>\n",
       "      <td>0Kp2UZGWRQHa3B5e8t93rI</td>\n",
       "      <td>189286</td>\n",
       "      <td>2020-09-14</td>\n",
       "      <td>56</td>\n",
       "      <td>0.820</td>\n",
       "      <td>0.842</td>\n",
       "      <td>...</td>\n",
       "      <td>0.2720</td>\n",
       "      <td>0.15700</td>\n",
       "      <td>0.000000</td>\n",
       "      <td>0.1120</td>\n",
       "      <td>0.653</td>\n",
       "      <td>0.357512</td>\n",
       "      <td>4</td>\n",
       "      <td>hiphoprapcons</td>\n",
       "      <td>0.956522</td>\n",
       "      <td>[0.0, 0.0, 0.0, 0.0, 0.9565217391304348, 0.043...</td>\n",
       "    </tr>\n",
       "    <tr>\n",
       "      <th>1059</th>\n",
       "      <td>0rbKrBvZUYY9GN9l057BuY</td>\n",
       "      <td>always, i'll care</td>\n",
       "      <td>3gIRvgZssIb9aiirIg0nI3</td>\n",
       "      <td>Jeremy Zucker</td>\n",
       "      <td>5mkf4N44kdEwYgaOk3hRLF</td>\n",
       "      <td>146160</td>\n",
       "      <td>2020-04-17</td>\n",
       "      <td>71</td>\n",
       "      <td>0.732</td>\n",
       "      <td>0.221</td>\n",
       "      <td>...</td>\n",
       "      <td>0.0560</td>\n",
       "      <td>0.89700</td>\n",
       "      <td>0.000026</td>\n",
       "      <td>0.1100</td>\n",
       "      <td>0.677</td>\n",
       "      <td>0.339520</td>\n",
       "      <td>3</td>\n",
       "      <td>folk</td>\n",
       "      <td>0.565217</td>\n",
       "      <td>[0.08695652173913043, 0.21739130434782608, 0.0...</td>\n",
       "    </tr>\n",
       "    <tr>\n",
       "      <th>1060</th>\n",
       "      <td>45JxmBQFbuEYkX0RDZcaVJ</td>\n",
       "      <td>God's Menu</td>\n",
       "      <td>2dIgFjalVxs4ThymZ67YCE</td>\n",
       "      <td>Stray Kids</td>\n",
       "      <td>0Kp2UZGWRQHa3B5e8t93rI</td>\n",
       "      <td>167922</td>\n",
       "      <td>2020-09-14</td>\n",
       "      <td>47</td>\n",
       "      <td>0.689</td>\n",
       "      <td>0.771</td>\n",
       "      <td>...</td>\n",
       "      <td>0.0548</td>\n",
       "      <td>0.00776</td>\n",
       "      <td>0.000000</td>\n",
       "      <td>0.5210</td>\n",
       "      <td>0.482</td>\n",
       "      <td>0.674482</td>\n",
       "      <td>2</td>\n",
       "      <td>electronic</td>\n",
       "      <td>0.391304</td>\n",
       "      <td>[0.0, 0.21739130434782608, 0.391304347826087, ...</td>\n",
       "    </tr>\n",
       "  </tbody>\n",
       "</table>\n",
       "<p>1061 rows × 23 columns</p>\n",
       "</div>"
      ],
      "text/plain": [
       "                    track_id         track_name               artist_id  \\\n",
       "0     6IdEQ3HUseBeRUYFSzSMdL           Zebbiana  117XFtbZPnCI1EYKjYZWJc   \n",
       "1     6v3KW9xbzN5yKLt9YKDYA2           Señorita  7n2wHs1TKAczGzO7Dd2rGr   \n",
       "2     1dGr1c8CrMLDpV6mPbImSI              Lover  06HL4z0CvFAxyc27GXpf02   \n",
       "3     0gDRtumoR9ZrvAlnniToMz        Ikaw At Ako  0rZRTXEmmPmx6gt92tBqIc   \n",
       "4     5l9g7py8RCblcvbZgGQgSd          Pagtingin  4DAcJXcjX0zlQAZAPAx4Zb   \n",
       "...                      ...                ...                     ...   \n",
       "1056  0zzVTGyRrWpQu8Fr28NRAv    OK Not To Be OK  64KEffDW9EtZ1y2vBYgq8T   \n",
       "1057  4G7uzhxgKFBCJApBpuuBgU              Kabet  3ID2V4b0oGSEbwPENAsdbG   \n",
       "1058  3KUGAgxo3b81X5bWoOp0U8          Back Door  2dIgFjalVxs4ThymZ67YCE   \n",
       "1059  0rbKrBvZUYY9GN9l057BuY  always, i'll care  3gIRvgZssIb9aiirIg0nI3   \n",
       "1060  45JxmBQFbuEYkX0RDZcaVJ         God's Menu  2dIgFjalVxs4ThymZ67YCE   \n",
       "\n",
       "           artist_name                album_id  duration release_date  \\\n",
       "0          Skusta Clee  4AaygWd1ZnCzZ4ak9EM23s    304664   2019-07-26   \n",
       "1         Shawn Mendes  0xzScN8P3hQAz3BT3YYX5w    190799   2019-06-19   \n",
       "2         Taylor Swift  1NAmidJlEaVgA3MpcPFYGq    221306   2019-08-23   \n",
       "3     Moira Dela Torre  397zfeJ75BlnjfUEkgtwlG    269876   2019-01-14   \n",
       "4              Ben&Ben  7xCcuTA3abKwxj8HwgxP7R    227370   2019-05-12   \n",
       "...                ...                     ...       ...          ...   \n",
       "1056        Marshmello  3wCtCJ8O6SlGBWYfzAlsb2    159862   2020-09-10   \n",
       "1057     Gagong Rapper  0bFldkQiVA9IiOch2GHQGq    318040   2020-09-07   \n",
       "1058        Stray Kids  0Kp2UZGWRQHa3B5e8t93rI    189286   2020-09-14   \n",
       "1059     Jeremy Zucker  5mkf4N44kdEwYgaOk3hRLF    146160   2020-04-17   \n",
       "1060        Stray Kids  0Kp2UZGWRQHa3B5e8t93rI    167922   2020-09-14   \n",
       "\n",
       "      popularity  danceability  energy  ...  speechiness  acousticness  \\\n",
       "0             64         0.677   0.433  ...       0.0370       0.54500   \n",
       "1             82         0.759   0.548  ...       0.0290       0.03920   \n",
       "2             79         0.359   0.543  ...       0.0919       0.49200   \n",
       "3             64         0.445   0.355  ...       0.0289       0.88700   \n",
       "4             68         0.669   0.420  ...       0.0253       0.50600   \n",
       "...          ...           ...     ...  ...          ...           ...   \n",
       "1056          85         0.743   0.837  ...       0.0649       0.01720   \n",
       "1057          59         0.721   0.742  ...       0.0377       0.67000   \n",
       "1058          56         0.820   0.842  ...       0.2720       0.15700   \n",
       "1059          71         0.732   0.221  ...       0.0560       0.89700   \n",
       "1060          47         0.689   0.771  ...       0.0548       0.00776   \n",
       "\n",
       "      instrumentalness  liveness  valence     tempo  predicted_genre_id  \\\n",
       "0             0.000000    0.1050    0.498  0.525706                   1   \n",
       "1             0.000000    0.0828    0.749  0.415709                   4   \n",
       "2             0.000016    0.1180    0.453  0.103044                   3   \n",
       "3             0.001790    0.3220    0.366  0.535512                   3   \n",
       "4             0.000000    0.4040    0.523  0.274215                   1   \n",
       "...                ...       ...      ...       ...                 ...   \n",
       "1056          0.000000    0.0743    0.263  0.326008                   4   \n",
       "1057          0.000001    0.1210    0.308  0.177013                   3   \n",
       "1058          0.000000    0.1120    0.653  0.357512                   4   \n",
       "1059          0.000026    0.1100    0.677  0.339520                   3   \n",
       "1060          0.000000    0.5210    0.482  0.674482                   2   \n",
       "\n",
       "      predicted_genre  predicted_genre_prob  \\\n",
       "0             country              0.347826   \n",
       "1       hiphoprapcons              0.391304   \n",
       "2                folk              0.391304   \n",
       "3                folk              0.434783   \n",
       "4             country              0.391304   \n",
       "...               ...                   ...   \n",
       "1056    hiphoprapcons              0.565217   \n",
       "1057             folk              0.347826   \n",
       "1058    hiphoprapcons              0.956522   \n",
       "1059             folk              0.565217   \n",
       "1060       electronic              0.391304   \n",
       "\n",
       "                                         all_genre_prob  \n",
       "0     [0.0, 0.34782608695652173, 0.0, 0.304347826086...  \n",
       "1     [0.0, 0.17391304347826086, 0.0, 0.086956521739...  \n",
       "2     [0.0, 0.30434782608695654, 0.0, 0.391304347826...  \n",
       "3     [0.17391304347826086, 0.2608695652173913, 0.0,...  \n",
       "4     [0.0, 0.391304347826087, 0.0, 0.26086956521739...  \n",
       "...                                                 ...  \n",
       "1056  [0.0, 0.30434782608695654, 0.04347826086956521...  \n",
       "1057  [0.0, 0.30434782608695654, 0.04347826086956521...  \n",
       "1058  [0.0, 0.0, 0.0, 0.0, 0.9565217391304348, 0.043...  \n",
       "1059  [0.08695652173913043, 0.21739130434782608, 0.0...  \n",
       "1060  [0.0, 0.21739130434782608, 0.391304347826087, ...  \n",
       "\n",
       "[1061 rows x 23 columns]"
      ]
     },
     "execution_count": 30,
     "metadata": {},
     "output_type": "execute_result"
    }
   ],
   "source": [
    "chart_tracks_df"
   ]
  },
  {
   "cell_type": "code",
   "execution_count": 31,
   "metadata": {
    "ExecuteTime": {
     "end_time": "2020-10-12T17:48:26.946851Z",
     "start_time": "2020-10-12T17:48:26.907572Z"
    },
    "scrolled": true
   },
   "outputs": [
    {
     "data": {
      "text/html": [
       "<div>\n",
       "<style scoped>\n",
       "    .dataframe tbody tr th:only-of-type {\n",
       "        vertical-align: middle;\n",
       "    }\n",
       "\n",
       "    .dataframe tbody tr th {\n",
       "        vertical-align: top;\n",
       "    }\n",
       "\n",
       "    .dataframe thead th {\n",
       "        text-align: right;\n",
       "    }\n",
       "</style>\n",
       "<table border=\"1\" class=\"dataframe\">\n",
       "  <thead>\n",
       "    <tr style=\"text-align: right;\">\n",
       "      <th></th>\n",
       "      <th>track_id</th>\n",
       "      <th>track_name</th>\n",
       "      <th>artist_id</th>\n",
       "      <th>artist_name</th>\n",
       "      <th>album_id</th>\n",
       "      <th>duration</th>\n",
       "      <th>release_date</th>\n",
       "      <th>popularity</th>\n",
       "      <th>danceability</th>\n",
       "      <th>energy</th>\n",
       "      <th>...</th>\n",
       "      <th>predicted_genre_id</th>\n",
       "      <th>predicted_genre</th>\n",
       "      <th>predicted_genre_prob</th>\n",
       "      <th>predicted_classical_prob</th>\n",
       "      <th>predicted_country_prob</th>\n",
       "      <th>predicted_electronic_prob</th>\n",
       "      <th>predicted_folk_prob</th>\n",
       "      <th>predicted_hiphoprapcons_prob</th>\n",
       "      <th>predicted_jazz_prob</th>\n",
       "      <th>predicted_rock_prob</th>\n",
       "    </tr>\n",
       "  </thead>\n",
       "  <tbody>\n",
       "    <tr>\n",
       "      <th>664</th>\n",
       "      <td>55CHeLEfn5iJ0IIkgaa4si</td>\n",
       "      <td>Savage</td>\n",
       "      <td>181bsRPaVXVlUKXrxwZfHK</td>\n",
       "      <td>Megan Thee Stallion</td>\n",
       "      <td>6Lo6ylJg4qbFfxicPEOzMI</td>\n",
       "      <td>155497</td>\n",
       "      <td>2020-03-06</td>\n",
       "      <td>82</td>\n",
       "      <td>0.843</td>\n",
       "      <td>0.741</td>\n",
       "      <td>...</td>\n",
       "      <td>4</td>\n",
       "      <td>hiphoprapcons</td>\n",
       "      <td>1.000000</td>\n",
       "      <td>0.0</td>\n",
       "      <td>0.0</td>\n",
       "      <td>0.000000</td>\n",
       "      <td>0.0</td>\n",
       "      <td>1.000000</td>\n",
       "      <td>0.0</td>\n",
       "      <td>0.0</td>\n",
       "    </tr>\n",
       "    <tr>\n",
       "      <th>459</th>\n",
       "      <td>7k4t7uLgtOxPwTpFmtJNTY</td>\n",
       "      <td>Tusa</td>\n",
       "      <td>790FomKkXshlbRYZFtlgla</td>\n",
       "      <td>KAROL G</td>\n",
       "      <td>7mKevNHhVnZER3BLgI8O4F</td>\n",
       "      <td>200960</td>\n",
       "      <td>2019-11-07</td>\n",
       "      <td>88</td>\n",
       "      <td>0.803</td>\n",
       "      <td>0.715</td>\n",
       "      <td>...</td>\n",
       "      <td>4</td>\n",
       "      <td>hiphoprapcons</td>\n",
       "      <td>1.000000</td>\n",
       "      <td>0.0</td>\n",
       "      <td>0.0</td>\n",
       "      <td>0.000000</td>\n",
       "      <td>0.0</td>\n",
       "      <td>1.000000</td>\n",
       "      <td>0.0</td>\n",
       "      <td>0.0</td>\n",
       "    </tr>\n",
       "    <tr>\n",
       "      <th>581</th>\n",
       "      <td>6KUE0HSSudAp9AOycaF6SH</td>\n",
       "      <td>Make It Right</td>\n",
       "      <td>3Nrfpe0tUJi4K4DXYWgMUX</td>\n",
       "      <td>BTS</td>\n",
       "      <td>1AvXa8xFEXtR3hb4bgihIK</td>\n",
       "      <td>226321</td>\n",
       "      <td>2019-04-12</td>\n",
       "      <td>72</td>\n",
       "      <td>0.638</td>\n",
       "      <td>0.703</td>\n",
       "      <td>...</td>\n",
       "      <td>4</td>\n",
       "      <td>hiphoprapcons</td>\n",
       "      <td>1.000000</td>\n",
       "      <td>0.0</td>\n",
       "      <td>0.0</td>\n",
       "      <td>0.000000</td>\n",
       "      <td>0.0</td>\n",
       "      <td>1.000000</td>\n",
       "      <td>0.0</td>\n",
       "      <td>0.0</td>\n",
       "    </tr>\n",
       "    <tr>\n",
       "      <th>921</th>\n",
       "      <td>6EDO9iiTtwNv6waLwa1UUq</td>\n",
       "      <td>POPSTAR (feat. Drake)</td>\n",
       "      <td>0QHgL1lAIqAw0HtD7YldmP</td>\n",
       "      <td>DJ Khaled</td>\n",
       "      <td>5nNtpPsSUgb9Hlb3dF1gXa</td>\n",
       "      <td>200221</td>\n",
       "      <td>2020-07-17</td>\n",
       "      <td>93</td>\n",
       "      <td>0.800</td>\n",
       "      <td>0.560</td>\n",
       "      <td>...</td>\n",
       "      <td>4</td>\n",
       "      <td>hiphoprapcons</td>\n",
       "      <td>1.000000</td>\n",
       "      <td>0.0</td>\n",
       "      <td>0.0</td>\n",
       "      <td>0.000000</td>\n",
       "      <td>0.0</td>\n",
       "      <td>1.000000</td>\n",
       "      <td>0.0</td>\n",
       "      <td>0.0</td>\n",
       "    </tr>\n",
       "    <tr>\n",
       "      <th>138</th>\n",
       "      <td>6EOKwHETwSkZ9gW2b6ASE0</td>\n",
       "      <td>Ransom</td>\n",
       "      <td>4Ga1P7PMIsmqEZqhYZQgDo</td>\n",
       "      <td>Lil Tecca</td>\n",
       "      <td>65T18oWoikW2MAilg9j8lW</td>\n",
       "      <td>131240</td>\n",
       "      <td>2019-08-30</td>\n",
       "      <td>3</td>\n",
       "      <td>0.745</td>\n",
       "      <td>0.642</td>\n",
       "      <td>...</td>\n",
       "      <td>4</td>\n",
       "      <td>hiphoprapcons</td>\n",
       "      <td>0.956522</td>\n",
       "      <td>0.0</td>\n",
       "      <td>0.0</td>\n",
       "      <td>0.043478</td>\n",
       "      <td>0.0</td>\n",
       "      <td>0.956522</td>\n",
       "      <td>0.0</td>\n",
       "      <td>0.0</td>\n",
       "    </tr>\n",
       "  </tbody>\n",
       "</table>\n",
       "<p>5 rows × 29 columns</p>\n",
       "</div>"
      ],
      "text/plain": [
       "                   track_id             track_name               artist_id  \\\n",
       "664  55CHeLEfn5iJ0IIkgaa4si                 Savage  181bsRPaVXVlUKXrxwZfHK   \n",
       "459  7k4t7uLgtOxPwTpFmtJNTY                   Tusa  790FomKkXshlbRYZFtlgla   \n",
       "581  6KUE0HSSudAp9AOycaF6SH          Make It Right  3Nrfpe0tUJi4K4DXYWgMUX   \n",
       "921  6EDO9iiTtwNv6waLwa1UUq  POPSTAR (feat. Drake)  0QHgL1lAIqAw0HtD7YldmP   \n",
       "138  6EOKwHETwSkZ9gW2b6ASE0                 Ransom  4Ga1P7PMIsmqEZqhYZQgDo   \n",
       "\n",
       "             artist_name                album_id  duration release_date  \\\n",
       "664  Megan Thee Stallion  6Lo6ylJg4qbFfxicPEOzMI    155497   2020-03-06   \n",
       "459              KAROL G  7mKevNHhVnZER3BLgI8O4F    200960   2019-11-07   \n",
       "581                  BTS  1AvXa8xFEXtR3hb4bgihIK    226321   2019-04-12   \n",
       "921            DJ Khaled  5nNtpPsSUgb9Hlb3dF1gXa    200221   2020-07-17   \n",
       "138            Lil Tecca  65T18oWoikW2MAilg9j8lW    131240   2019-08-30   \n",
       "\n",
       "     popularity  danceability  energy  ...  predicted_genre_id  \\\n",
       "664          82         0.843   0.741  ...                   4   \n",
       "459          88         0.803   0.715  ...                   4   \n",
       "581          72         0.638   0.703  ...                   4   \n",
       "921          93         0.800   0.560  ...                   4   \n",
       "138           3         0.745   0.642  ...                   4   \n",
       "\n",
       "     predicted_genre  predicted_genre_prob  predicted_classical_prob  \\\n",
       "664    hiphoprapcons              1.000000                       0.0   \n",
       "459    hiphoprapcons              1.000000                       0.0   \n",
       "581    hiphoprapcons              1.000000                       0.0   \n",
       "921    hiphoprapcons              1.000000                       0.0   \n",
       "138    hiphoprapcons              0.956522                       0.0   \n",
       "\n",
       "     predicted_country_prob  predicted_electronic_prob  predicted_folk_prob  \\\n",
       "664                     0.0                   0.000000                  0.0   \n",
       "459                     0.0                   0.000000                  0.0   \n",
       "581                     0.0                   0.000000                  0.0   \n",
       "921                     0.0                   0.000000                  0.0   \n",
       "138                     0.0                   0.043478                  0.0   \n",
       "\n",
       "     predicted_hiphoprapcons_prob  predicted_jazz_prob  predicted_rock_prob  \n",
       "664                      1.000000                  0.0                  0.0  \n",
       "459                      1.000000                  0.0                  0.0  \n",
       "581                      1.000000                  0.0                  0.0  \n",
       "921                      1.000000                  0.0                  0.0  \n",
       "138                      0.956522                  0.0                  0.0  \n",
       "\n",
       "[5 rows x 29 columns]"
      ]
     },
     "execution_count": 31,
     "metadata": {},
     "output_type": "execute_result"
    }
   ],
   "source": [
    "#explode genre probabilities into separate columns\n",
    "charts_predicted_genre_prob = pd.DataFrame(chart_tracks_df[\"all_genre_prob\"].to_list(),\n",
    "                                           columns=['predicted_'+g+'_prob' for g in genres])\n",
    "charts_predicted_genre_prob['track_id'] = chart_tracks_df['track_id']\n",
    "chart_tracks_df = pd.merge(chart_tracks_df,charts_predicted_genre_prob, how='left', on='track_id')\n",
    "chart_tracks_df = chart_tracks_df.drop(columns='all_genre_prob')\n",
    "chart_tracks_df = chart_tracks_df.sort_values('predicted_genre_prob', ascending=False)\n",
    "chart_tracks_df.head()"
   ]
  },
  {
   "cell_type": "markdown",
   "metadata": {},
   "source": [
    "Check out tracks with highest assigned probability"
   ]
  },
  {
   "cell_type": "code",
   "execution_count": 32,
   "metadata": {
    "ExecuteTime": {
     "end_time": "2020-10-12T17:48:26.972791Z",
     "start_time": "2020-10-12T17:48:26.948846Z"
    }
   },
   "outputs": [
    {
     "data": {
      "text/html": [
       "<div>\n",
       "<style scoped>\n",
       "    .dataframe tbody tr th:only-of-type {\n",
       "        vertical-align: middle;\n",
       "    }\n",
       "\n",
       "    .dataframe tbody tr th {\n",
       "        vertical-align: top;\n",
       "    }\n",
       "\n",
       "    .dataframe thead th {\n",
       "        text-align: right;\n",
       "    }\n",
       "</style>\n",
       "<table border=\"1\" class=\"dataframe\">\n",
       "  <thead>\n",
       "    <tr style=\"text-align: right;\">\n",
       "      <th></th>\n",
       "      <th>artist_name</th>\n",
       "      <th>track_name</th>\n",
       "      <th>predicted_genre</th>\n",
       "      <th>predicted_genre_prob</th>\n",
       "    </tr>\n",
       "  </thead>\n",
       "  <tbody>\n",
       "    <tr>\n",
       "      <th>664</th>\n",
       "      <td>Megan Thee Stallion</td>\n",
       "      <td>Savage</td>\n",
       "      <td>hiphoprapcons</td>\n",
       "      <td>1.000000</td>\n",
       "    </tr>\n",
       "    <tr>\n",
       "      <th>459</th>\n",
       "      <td>KAROL G</td>\n",
       "      <td>Tusa</td>\n",
       "      <td>hiphoprapcons</td>\n",
       "      <td>1.000000</td>\n",
       "    </tr>\n",
       "    <tr>\n",
       "      <th>581</th>\n",
       "      <td>BTS</td>\n",
       "      <td>Make It Right</td>\n",
       "      <td>hiphoprapcons</td>\n",
       "      <td>1.000000</td>\n",
       "    </tr>\n",
       "    <tr>\n",
       "      <th>921</th>\n",
       "      <td>DJ Khaled</td>\n",
       "      <td>POPSTAR (feat. Drake)</td>\n",
       "      <td>hiphoprapcons</td>\n",
       "      <td>1.000000</td>\n",
       "    </tr>\n",
       "    <tr>\n",
       "      <th>138</th>\n",
       "      <td>Lil Tecca</td>\n",
       "      <td>Ransom</td>\n",
       "      <td>hiphoprapcons</td>\n",
       "      <td>0.956522</td>\n",
       "    </tr>\n",
       "    <tr>\n",
       "      <th>777</th>\n",
       "      <td>Agust D</td>\n",
       "      <td>Daechwita</td>\n",
       "      <td>electronic</td>\n",
       "      <td>0.913043</td>\n",
       "    </tr>\n",
       "    <tr>\n",
       "      <th>445</th>\n",
       "      <td>Gary Valenciano</td>\n",
       "      <td>Pasko Na Sinta Ko</td>\n",
       "      <td>classical</td>\n",
       "      <td>0.913043</td>\n",
       "    </tr>\n",
       "    <tr>\n",
       "      <th>709</th>\n",
       "      <td>The Juans</td>\n",
       "      <td>Hatid</td>\n",
       "      <td>classical</td>\n",
       "      <td>0.869565</td>\n",
       "    </tr>\n",
       "    <tr>\n",
       "      <th>718</th>\n",
       "      <td>Gaho</td>\n",
       "      <td>시작</td>\n",
       "      <td>country</td>\n",
       "      <td>0.782609</td>\n",
       "    </tr>\n",
       "    <tr>\n",
       "      <th>1037</th>\n",
       "      <td>Jose Mari Chan</td>\n",
       "      <td>It Is the Lord!</td>\n",
       "      <td>classical</td>\n",
       "      <td>0.782609</td>\n",
       "    </tr>\n",
       "    <tr>\n",
       "      <th>883</th>\n",
       "      <td>HONNE</td>\n",
       "      <td>dear P</td>\n",
       "      <td>classical</td>\n",
       "      <td>0.782609</td>\n",
       "    </tr>\n",
       "    <tr>\n",
       "      <th>421</th>\n",
       "      <td>Nat King Cole</td>\n",
       "      <td>The Christmas Song (Merry Christmas To You)</td>\n",
       "      <td>classical</td>\n",
       "      <td>0.782609</td>\n",
       "    </tr>\n",
       "    <tr>\n",
       "      <th>185</th>\n",
       "      <td>The Goo Goo Dolls</td>\n",
       "      <td>Iris</td>\n",
       "      <td>rock</td>\n",
       "      <td>0.782609</td>\n",
       "    </tr>\n",
       "    <tr>\n",
       "      <th>208</th>\n",
       "      <td>KZ Tandingan</td>\n",
       "      <td>Till My Heartaches End - From \"The Significant...</td>\n",
       "      <td>folk</td>\n",
       "      <td>0.782609</td>\n",
       "    </tr>\n",
       "    <tr>\n",
       "      <th>982</th>\n",
       "      <td>SB19</td>\n",
       "      <td>Tilaluha</td>\n",
       "      <td>folk</td>\n",
       "      <td>0.739130</td>\n",
       "    </tr>\n",
       "    <tr>\n",
       "      <th>151</th>\n",
       "      <td>Backstreet Boys</td>\n",
       "      <td>Shape of My Heart</td>\n",
       "      <td>country</td>\n",
       "      <td>0.739130</td>\n",
       "    </tr>\n",
       "    <tr>\n",
       "      <th>761</th>\n",
       "      <td>Kamikazee</td>\n",
       "      <td>Huling Sayaw</td>\n",
       "      <td>rock</td>\n",
       "      <td>0.739130</td>\n",
       "    </tr>\n",
       "    <tr>\n",
       "      <th>712</th>\n",
       "      <td>Sam Smith</td>\n",
       "      <td>I’m Ready (with Demi Lovato)</td>\n",
       "      <td>electronic</td>\n",
       "      <td>0.739130</td>\n",
       "    </tr>\n",
       "    <tr>\n",
       "      <th>668</th>\n",
       "      <td>Moira Dela Torre</td>\n",
       "      <td>Paalam</td>\n",
       "      <td>folk</td>\n",
       "      <td>0.695652</td>\n",
       "    </tr>\n",
       "    <tr>\n",
       "      <th>936</th>\n",
       "      <td>One Direction</td>\n",
       "      <td>Steal My Girl</td>\n",
       "      <td>country</td>\n",
       "      <td>0.695652</td>\n",
       "    </tr>\n",
       "    <tr>\n",
       "      <th>348</th>\n",
       "      <td>Idina Menzel</td>\n",
       "      <td>Show Yourself</td>\n",
       "      <td>folk</td>\n",
       "      <td>0.695652</td>\n",
       "    </tr>\n",
       "    <tr>\n",
       "      <th>232</th>\n",
       "      <td>Moira Dela Torre</td>\n",
       "      <td>Paalam</td>\n",
       "      <td>folk</td>\n",
       "      <td>0.695652</td>\n",
       "    </tr>\n",
       "    <tr>\n",
       "      <th>575</th>\n",
       "      <td>BTS</td>\n",
       "      <td>We are Bulletproof : the Eternal</td>\n",
       "      <td>country</td>\n",
       "      <td>0.695652</td>\n",
       "    </tr>\n",
       "    <tr>\n",
       "      <th>1021</th>\n",
       "      <td>Calvin Harris</td>\n",
       "      <td>Over Now (with The Weeknd)</td>\n",
       "      <td>country</td>\n",
       "      <td>0.695652</td>\n",
       "    </tr>\n",
       "    <tr>\n",
       "      <th>1009</th>\n",
       "      <td>BTS</td>\n",
       "      <td>Dynamite - Instrumental</td>\n",
       "      <td>electronic</td>\n",
       "      <td>0.695652</td>\n",
       "    </tr>\n",
       "    <tr>\n",
       "      <th>407</th>\n",
       "      <td>Mariah Carey</td>\n",
       "      <td>Christmas (Baby Please Come Home)</td>\n",
       "      <td>rock</td>\n",
       "      <td>0.695652</td>\n",
       "    </tr>\n",
       "    <tr>\n",
       "      <th>944</th>\n",
       "      <td>One Direction</td>\n",
       "      <td>More Than This</td>\n",
       "      <td>electronic</td>\n",
       "      <td>0.695652</td>\n",
       "    </tr>\n",
       "    <tr>\n",
       "      <th>946</th>\n",
       "      <td>One Direction</td>\n",
       "      <td>Midnight Memories</td>\n",
       "      <td>rock</td>\n",
       "      <td>0.695652</td>\n",
       "    </tr>\n",
       "    <tr>\n",
       "      <th>737</th>\n",
       "      <td>Stephen Speaks</td>\n",
       "      <td>Passenger Seat</td>\n",
       "      <td>rock</td>\n",
       "      <td>0.652174</td>\n",
       "    </tr>\n",
       "    <tr>\n",
       "      <th>328</th>\n",
       "      <td>Billie Eilish</td>\n",
       "      <td>everything i wanted</td>\n",
       "      <td>jazz</td>\n",
       "      <td>0.652174</td>\n",
       "    </tr>\n",
       "    <tr>\n",
       "      <th>221</th>\n",
       "      <td>Camila Cabello</td>\n",
       "      <td>Shameless</td>\n",
       "      <td>electronic</td>\n",
       "      <td>0.608696</td>\n",
       "    </tr>\n",
       "    <tr>\n",
       "      <th>880</th>\n",
       "      <td>HONNE</td>\n",
       "      <td>la la la that’s how it goes</td>\n",
       "      <td>jazz</td>\n",
       "      <td>0.608696</td>\n",
       "    </tr>\n",
       "    <tr>\n",
       "      <th>439</th>\n",
       "      <td>Ariel Rivera</td>\n",
       "      <td>Sana Ngayong Pasko</td>\n",
       "      <td>jazz</td>\n",
       "      <td>0.565217</td>\n",
       "    </tr>\n",
       "    <tr>\n",
       "      <th>370</th>\n",
       "      <td>Jack Stauber</td>\n",
       "      <td>Buttercup</td>\n",
       "      <td>jazz</td>\n",
       "      <td>0.565217</td>\n",
       "    </tr>\n",
       "    <tr>\n",
       "      <th>129</th>\n",
       "      <td>Kina</td>\n",
       "      <td>Get You The Moon (feat. Snøw)</td>\n",
       "      <td>jazz</td>\n",
       "      <td>0.565217</td>\n",
       "    </tr>\n",
       "  </tbody>\n",
       "</table>\n",
       "</div>"
      ],
      "text/plain": [
       "              artist_name                                         track_name  \\\n",
       "664   Megan Thee Stallion                                             Savage   \n",
       "459               KAROL G                                               Tusa   \n",
       "581                   BTS                                      Make It Right   \n",
       "921             DJ Khaled                              POPSTAR (feat. Drake)   \n",
       "138             Lil Tecca                                             Ransom   \n",
       "777               Agust D                                          Daechwita   \n",
       "445       Gary Valenciano                                  Pasko Na Sinta Ko   \n",
       "709             The Juans                                              Hatid   \n",
       "718                  Gaho                                                 시작   \n",
       "1037       Jose Mari Chan                                    It Is the Lord!   \n",
       "883                 HONNE                                             dear P   \n",
       "421         Nat King Cole        The Christmas Song (Merry Christmas To You)   \n",
       "185     The Goo Goo Dolls                                               Iris   \n",
       "208          KZ Tandingan  Till My Heartaches End - From \"The Significant...   \n",
       "982                  SB19                                           Tilaluha   \n",
       "151       Backstreet Boys                                  Shape of My Heart   \n",
       "761             Kamikazee                                       Huling Sayaw   \n",
       "712             Sam Smith                       I’m Ready (with Demi Lovato)   \n",
       "668      Moira Dela Torre                                             Paalam   \n",
       "936         One Direction                                      Steal My Girl   \n",
       "348          Idina Menzel                                      Show Yourself   \n",
       "232      Moira Dela Torre                                             Paalam   \n",
       "575                   BTS                   We are Bulletproof : the Eternal   \n",
       "1021        Calvin Harris                         Over Now (with The Weeknd)   \n",
       "1009                  BTS                            Dynamite - Instrumental   \n",
       "407          Mariah Carey                  Christmas (Baby Please Come Home)   \n",
       "944         One Direction                                     More Than This   \n",
       "946         One Direction                                  Midnight Memories   \n",
       "737        Stephen Speaks                                     Passenger Seat   \n",
       "328         Billie Eilish                                everything i wanted   \n",
       "221        Camila Cabello                                          Shameless   \n",
       "880                 HONNE                        la la la that’s how it goes   \n",
       "439          Ariel Rivera                                 Sana Ngayong Pasko   \n",
       "370          Jack Stauber                                          Buttercup   \n",
       "129                  Kina                      Get You The Moon (feat. Snøw)   \n",
       "\n",
       "     predicted_genre  predicted_genre_prob  \n",
       "664    hiphoprapcons              1.000000  \n",
       "459    hiphoprapcons              1.000000  \n",
       "581    hiphoprapcons              1.000000  \n",
       "921    hiphoprapcons              1.000000  \n",
       "138    hiphoprapcons              0.956522  \n",
       "777       electronic              0.913043  \n",
       "445        classical              0.913043  \n",
       "709        classical              0.869565  \n",
       "718          country              0.782609  \n",
       "1037       classical              0.782609  \n",
       "883        classical              0.782609  \n",
       "421        classical              0.782609  \n",
       "185             rock              0.782609  \n",
       "208             folk              0.782609  \n",
       "982             folk              0.739130  \n",
       "151          country              0.739130  \n",
       "761             rock              0.739130  \n",
       "712       electronic              0.739130  \n",
       "668             folk              0.695652  \n",
       "936          country              0.695652  \n",
       "348             folk              0.695652  \n",
       "232             folk              0.695652  \n",
       "575          country              0.695652  \n",
       "1021         country              0.695652  \n",
       "1009      electronic              0.695652  \n",
       "407             rock              0.695652  \n",
       "944       electronic              0.695652  \n",
       "946             rock              0.695652  \n",
       "737             rock              0.652174  \n",
       "328             jazz              0.652174  \n",
       "221       electronic              0.608696  \n",
       "880             jazz              0.608696  \n",
       "439             jazz              0.565217  \n",
       "370             jazz              0.565217  \n",
       "129             jazz              0.565217  "
      ]
     },
     "execution_count": 32,
     "metadata": {},
     "output_type": "execute_result"
    }
   ],
   "source": [
    "chart_tracks_df.groupby('predicted_genre_id').head()[['artist_name','track_name','predicted_genre','predicted_genre_prob']]"
   ]
  },
  {
   "cell_type": "markdown",
   "metadata": {},
   "source": [
    "View histogram of predicted genre probabilities"
   ]
  },
  {
   "cell_type": "code",
   "execution_count": 33,
   "metadata": {
    "ExecuteTime": {
     "end_time": "2020-10-12T17:48:27.233631Z",
     "start_time": "2020-10-12T17:48:26.975774Z"
    }
   },
   "outputs": [
    {
     "data": {
      "text/plain": [
       "<matplotlib.axes._subplots.AxesSubplot at 0x1628fd81af0>"
      ]
     },
     "execution_count": 33,
     "metadata": {},
     "output_type": "execute_result"
    },
    {
     "data": {
      "image/png": "[encoded data removed]",
      "text/plain": [
       "<Figure size 432x288 with 1 Axes>"
      ]
     },
     "metadata": {
      "needs_background": "light"
     },
     "output_type": "display_data"
    }
   ],
   "source": [
    "chart_tracks_df['predicted_genre_prob'].hist()"
   ]
  },
  {
   "cell_type": "markdown",
   "metadata": {
    "ExecuteTime": {
     "end_time": "2020-10-12T17:44:50.844307Z",
     "start_time": "2020-10-12T17:44:50.836325Z"
    }
   },
   "source": [
    "Check out tally of predicted genres"
   ]
  },
  {
   "cell_type": "code",
   "execution_count": 34,
   "metadata": {
    "ExecuteTime": {
     "end_time": "2020-10-12T17:48:27.241606Z",
     "start_time": "2020-10-12T17:48:27.234626Z"
    }
   },
   "outputs": [
    {
     "data": {
      "text/plain": [
       "country          357\n",
       "hiphoprapcons    257\n",
       "folk             234\n",
       "rock             114\n",
       "electronic        52\n",
       "jazz              28\n",
       "classical         19\n",
       "Name: predicted_genre, dtype: int64"
      ]
     },
     "execution_count": 34,
     "metadata": {},
     "output_type": "execute_result"
    }
   ],
   "source": [
    "chart_tracks_df['predicted_genre'].value_counts()"
   ]
  },
  {
   "cell_type": "markdown",
   "metadata": {},
   "source": [
    ">Q **Spot Check**: Check out a song you're familiar with and see if the predicted genres and probabilities makes sense"
   ]
  },
  {
   "cell_type": "code",
   "execution_count": 35,
   "metadata": {
    "ExecuteTime": {
     "end_time": "2020-10-12T17:48:27.271526Z",
     "start_time": "2020-10-12T17:48:27.242605Z"
    }
   },
   "outputs": [
    {
     "data": {
      "text/html": [
       "<div>\n",
       "<style scoped>\n",
       "    .dataframe tbody tr th:only-of-type {\n",
       "        vertical-align: middle;\n",
       "    }\n",
       "\n",
       "    .dataframe tbody tr th {\n",
       "        vertical-align: top;\n",
       "    }\n",
       "\n",
       "    .dataframe thead th {\n",
       "        text-align: right;\n",
       "    }\n",
       "</style>\n",
       "<table border=\"1\" class=\"dataframe\">\n",
       "  <thead>\n",
       "    <tr style=\"text-align: right;\">\n",
       "      <th></th>\n",
       "      <th>track_id</th>\n",
       "      <th>track_name</th>\n",
       "      <th>artist_id</th>\n",
       "      <th>artist_name</th>\n",
       "      <th>album_id</th>\n",
       "      <th>duration</th>\n",
       "      <th>release_date</th>\n",
       "      <th>popularity</th>\n",
       "      <th>danceability</th>\n",
       "      <th>energy</th>\n",
       "      <th>...</th>\n",
       "      <th>predicted_genre_id</th>\n",
       "      <th>predicted_genre</th>\n",
       "      <th>predicted_genre_prob</th>\n",
       "      <th>predicted_classical_prob</th>\n",
       "      <th>predicted_country_prob</th>\n",
       "      <th>predicted_electronic_prob</th>\n",
       "      <th>predicted_folk_prob</th>\n",
       "      <th>predicted_hiphoprapcons_prob</th>\n",
       "      <th>predicted_jazz_prob</th>\n",
       "      <th>predicted_rock_prob</th>\n",
       "    </tr>\n",
       "  </thead>\n",
       "  <tbody>\n",
       "    <tr>\n",
       "      <th>21</th>\n",
       "      <td>3WUEs51GpcvlgU7lehLgLh</td>\n",
       "      <td>Kathang Isip</td>\n",
       "      <td>4DAcJXcjX0zlQAZAPAx4Zb</td>\n",
       "      <td>Ben&amp;Ben</td>\n",
       "      <td>4nQxblVnnFPehg9ujzdJ8L</td>\n",
       "      <td>318814</td>\n",
       "      <td>2017-06-23</td>\n",
       "      <td>71</td>\n",
       "      <td>0.491</td>\n",
       "      <td>0.314</td>\n",
       "      <td>...</td>\n",
       "      <td>3</td>\n",
       "      <td>folk</td>\n",
       "      <td>0.521739</td>\n",
       "      <td>0.086957</td>\n",
       "      <td>0.217391</td>\n",
       "      <td>0.0</td>\n",
       "      <td>0.521739</td>\n",
       "      <td>0.0</td>\n",
       "      <td>0.086957</td>\n",
       "      <td>0.086957</td>\n",
       "    </tr>\n",
       "  </tbody>\n",
       "</table>\n",
       "<p>1 rows × 29 columns</p>\n",
       "</div>"
      ],
      "text/plain": [
       "                  track_id    track_name               artist_id artist_name  \\\n",
       "21  3WUEs51GpcvlgU7lehLgLh  Kathang Isip  4DAcJXcjX0zlQAZAPAx4Zb     Ben&Ben   \n",
       "\n",
       "                  album_id  duration release_date  popularity  danceability  \\\n",
       "21  4nQxblVnnFPehg9ujzdJ8L    318814   2017-06-23          71         0.491   \n",
       "\n",
       "    energy  ...  predicted_genre_id  predicted_genre  predicted_genre_prob  \\\n",
       "21   0.314  ...                   3             folk              0.521739   \n",
       "\n",
       "    predicted_classical_prob  predicted_country_prob  \\\n",
       "21                  0.086957                0.217391   \n",
       "\n",
       "    predicted_electronic_prob  predicted_folk_prob  \\\n",
       "21                        0.0             0.521739   \n",
       "\n",
       "    predicted_hiphoprapcons_prob  predicted_jazz_prob  predicted_rock_prob  \n",
       "21                           0.0             0.086957             0.086957  \n",
       "\n",
       "[1 rows x 29 columns]"
      ]
     },
     "execution_count": 35,
     "metadata": {},
     "output_type": "execute_result"
    }
   ],
   "source": [
    "chart_tracks_df[chart_tracks_df['track_name']=='Kathang Isip']"
   ]
  },
  {
   "cell_type": "code",
   "execution_count": 36,
   "metadata": {},
   "outputs": [
    {
     "data": {
      "text/html": [
       "<div>\n",
       "<style scoped>\n",
       "    .dataframe tbody tr th:only-of-type {\n",
       "        vertical-align: middle;\n",
       "    }\n",
       "\n",
       "    .dataframe tbody tr th {\n",
       "        vertical-align: top;\n",
       "    }\n",
       "\n",
       "    .dataframe thead th {\n",
       "        text-align: right;\n",
       "    }\n",
       "</style>\n",
       "<table border=\"1\" class=\"dataframe\">\n",
       "  <thead>\n",
       "    <tr style=\"text-align: right;\">\n",
       "      <th></th>\n",
       "      <th>track_id</th>\n",
       "      <th>track_name</th>\n",
       "      <th>artist_id</th>\n",
       "      <th>artist_name</th>\n",
       "      <th>album_id</th>\n",
       "      <th>duration</th>\n",
       "      <th>release_date</th>\n",
       "      <th>popularity</th>\n",
       "      <th>danceability</th>\n",
       "      <th>energy</th>\n",
       "      <th>...</th>\n",
       "      <th>predicted_genre_id</th>\n",
       "      <th>predicted_genre</th>\n",
       "      <th>predicted_genre_prob</th>\n",
       "      <th>predicted_classical_prob</th>\n",
       "      <th>predicted_country_prob</th>\n",
       "      <th>predicted_electronic_prob</th>\n",
       "      <th>predicted_folk_prob</th>\n",
       "      <th>predicted_hiphoprapcons_prob</th>\n",
       "      <th>predicted_jazz_prob</th>\n",
       "      <th>predicted_rock_prob</th>\n",
       "    </tr>\n",
       "  </thead>\n",
       "  <tbody>\n",
       "    <tr>\n",
       "      <th>4</th>\n",
       "      <td>5l9g7py8RCblcvbZgGQgSd</td>\n",
       "      <td>Pagtingin</td>\n",
       "      <td>4DAcJXcjX0zlQAZAPAx4Zb</td>\n",
       "      <td>Ben&amp;Ben</td>\n",
       "      <td>7xCcuTA3abKwxj8HwgxP7R</td>\n",
       "      <td>227370</td>\n",
       "      <td>2019-05-12</td>\n",
       "      <td>68</td>\n",
       "      <td>0.669</td>\n",
       "      <td>0.42</td>\n",
       "      <td>...</td>\n",
       "      <td>1</td>\n",
       "      <td>country</td>\n",
       "      <td>0.391304</td>\n",
       "      <td>0.0</td>\n",
       "      <td>0.391304</td>\n",
       "      <td>0.0</td>\n",
       "      <td>0.26087</td>\n",
       "      <td>0.043478</td>\n",
       "      <td>0.086957</td>\n",
       "      <td>0.217391</td>\n",
       "    </tr>\n",
       "  </tbody>\n",
       "</table>\n",
       "<p>1 rows × 29 columns</p>\n",
       "</div>"
      ],
      "text/plain": [
       "                 track_id track_name               artist_id artist_name  \\\n",
       "4  5l9g7py8RCblcvbZgGQgSd  Pagtingin  4DAcJXcjX0zlQAZAPAx4Zb     Ben&Ben   \n",
       "\n",
       "                 album_id  duration release_date  popularity  danceability  \\\n",
       "4  7xCcuTA3abKwxj8HwgxP7R    227370   2019-05-12          68         0.669   \n",
       "\n",
       "   energy  ...  predicted_genre_id  predicted_genre  predicted_genre_prob  \\\n",
       "4    0.42  ...                   1          country              0.391304   \n",
       "\n",
       "   predicted_classical_prob  predicted_country_prob  \\\n",
       "4                       0.0                0.391304   \n",
       "\n",
       "   predicted_electronic_prob  predicted_folk_prob  \\\n",
       "4                        0.0              0.26087   \n",
       "\n",
       "   predicted_hiphoprapcons_prob  predicted_jazz_prob  predicted_rock_prob  \n",
       "4                      0.043478             0.086957             0.217391  \n",
       "\n",
       "[1 rows x 29 columns]"
      ]
     },
     "execution_count": 36,
     "metadata": {},
     "output_type": "execute_result"
    }
   ],
   "source": [
    "chart_tracks_df[chart_tracks_df['track_name']=='Pagtingin']"
   ]
  },
  {
   "cell_type": "code",
   "execution_count": 37,
   "metadata": {},
   "outputs": [
    {
     "data": {
      "text/html": [
       "<div>\n",
       "<style scoped>\n",
       "    .dataframe tbody tr th:only-of-type {\n",
       "        vertical-align: middle;\n",
       "    }\n",
       "\n",
       "    .dataframe tbody tr th {\n",
       "        vertical-align: top;\n",
       "    }\n",
       "\n",
       "    .dataframe thead th {\n",
       "        text-align: right;\n",
       "    }\n",
       "</style>\n",
       "<table border=\"1\" class=\"dataframe\">\n",
       "  <thead>\n",
       "    <tr style=\"text-align: right;\">\n",
       "      <th></th>\n",
       "      <th>track_id</th>\n",
       "      <th>track_name</th>\n",
       "      <th>artist_id</th>\n",
       "      <th>artist_name</th>\n",
       "      <th>album_id</th>\n",
       "      <th>duration</th>\n",
       "      <th>release_date</th>\n",
       "      <th>popularity</th>\n",
       "      <th>danceability</th>\n",
       "      <th>energy</th>\n",
       "      <th>...</th>\n",
       "      <th>predicted_genre_id</th>\n",
       "      <th>predicted_genre</th>\n",
       "      <th>predicted_genre_prob</th>\n",
       "      <th>predicted_classical_prob</th>\n",
       "      <th>predicted_country_prob</th>\n",
       "      <th>predicted_electronic_prob</th>\n",
       "      <th>predicted_folk_prob</th>\n",
       "      <th>predicted_hiphoprapcons_prob</th>\n",
       "      <th>predicted_jazz_prob</th>\n",
       "      <th>predicted_rock_prob</th>\n",
       "    </tr>\n",
       "  </thead>\n",
       "  <tbody>\n",
       "    <tr>\n",
       "      <th>1030</th>\n",
       "      <td>0t1kP63rueHleOhQkYSXFY</td>\n",
       "      <td>Dynamite</td>\n",
       "      <td>3Nrfpe0tUJi4K4DXYWgMUX</td>\n",
       "      <td>BTS</td>\n",
       "      <td>6K4chJALBBMYmXjwgvqahx</td>\n",
       "      <td>199053</td>\n",
       "      <td>2020-08-28</td>\n",
       "      <td>97</td>\n",
       "      <td>0.746</td>\n",
       "      <td>0.765</td>\n",
       "      <td>...</td>\n",
       "      <td>1</td>\n",
       "      <td>country</td>\n",
       "      <td>0.304348</td>\n",
       "      <td>0.0</td>\n",
       "      <td>0.304348</td>\n",
       "      <td>0.0</td>\n",
       "      <td>0.0</td>\n",
       "      <td>0.304348</td>\n",
       "      <td>0.086957</td>\n",
       "      <td>0.304348</td>\n",
       "    </tr>\n",
       "    <tr>\n",
       "      <th>1007</th>\n",
       "      <td>0v1x6rN6JHRapa03JElljE</td>\n",
       "      <td>Dynamite</td>\n",
       "      <td>3Nrfpe0tUJi4K4DXYWgMUX</td>\n",
       "      <td>BTS</td>\n",
       "      <td>3zWmE5c3alhuoPLphxjMVd</td>\n",
       "      <td>199053</td>\n",
       "      <td>2020-08-21</td>\n",
       "      <td>83</td>\n",
       "      <td>0.746</td>\n",
       "      <td>0.765</td>\n",
       "      <td>...</td>\n",
       "      <td>1</td>\n",
       "      <td>country</td>\n",
       "      <td>0.304348</td>\n",
       "      <td>0.0</td>\n",
       "      <td>0.304348</td>\n",
       "      <td>0.0</td>\n",
       "      <td>0.0</td>\n",
       "      <td>0.304348</td>\n",
       "      <td>0.086957</td>\n",
       "      <td>0.304348</td>\n",
       "    </tr>\n",
       "  </tbody>\n",
       "</table>\n",
       "<p>2 rows × 29 columns</p>\n",
       "</div>"
      ],
      "text/plain": [
       "                    track_id track_name               artist_id artist_name  \\\n",
       "1030  0t1kP63rueHleOhQkYSXFY   Dynamite  3Nrfpe0tUJi4K4DXYWgMUX         BTS   \n",
       "1007  0v1x6rN6JHRapa03JElljE   Dynamite  3Nrfpe0tUJi4K4DXYWgMUX         BTS   \n",
       "\n",
       "                    album_id  duration release_date  popularity  danceability  \\\n",
       "1030  6K4chJALBBMYmXjwgvqahx    199053   2020-08-28          97         0.746   \n",
       "1007  3zWmE5c3alhuoPLphxjMVd    199053   2020-08-21          83         0.746   \n",
       "\n",
       "      energy  ...  predicted_genre_id  predicted_genre  predicted_genre_prob  \\\n",
       "1030   0.765  ...                   1          country              0.304348   \n",
       "1007   0.765  ...                   1          country              0.304348   \n",
       "\n",
       "      predicted_classical_prob  predicted_country_prob  \\\n",
       "1030                       0.0                0.304348   \n",
       "1007                       0.0                0.304348   \n",
       "\n",
       "      predicted_electronic_prob  predicted_folk_prob  \\\n",
       "1030                        0.0                  0.0   \n",
       "1007                        0.0                  0.0   \n",
       "\n",
       "      predicted_hiphoprapcons_prob  predicted_jazz_prob  predicted_rock_prob  \n",
       "1030                      0.304348             0.086957             0.304348  \n",
       "1007                      0.304348             0.086957             0.304348  \n",
       "\n",
       "[2 rows x 29 columns]"
      ]
     },
     "execution_count": 37,
     "metadata": {},
     "output_type": "execute_result"
    }
   ],
   "source": [
    "chart_tracks_df[chart_tracks_df['track_name']=='Dynamite']"
   ]
  },
  {
   "cell_type": "code",
   "execution_count": 38,
   "metadata": {
    "ExecuteTime": {
     "end_time": "2020-10-12T17:48:27.341376Z",
     "start_time": "2020-10-12T17:48:27.272524Z"
    }
   },
   "outputs": [],
   "source": [
    "#save data\n",
    "chart_tracks_df.to_csv(\"C:/Users/knocom/Eskwelabs Jupyter Notebooks/Sprint 3/get_spotify_data-master/data/spotify_daily_charts_tracks_predicted_genres.csv\", index=False, encoding='utf-8')"
   ]
  },
  {
   "cell_type": "markdown",
   "metadata": {},
   "source": [
    "## Caveats\n",
    "1. Using playlist names as genre tags heavily rely on *user opinion* and not *extracted music features* (compare this from the methods used in the [GTZAN genre collection dataset](https://data-flair.training/blogs/python-project-music-genre-classification/)\n",
    "2. Playlists with dual genre names exists, and appear quite often in the dataset (e.g. Electronic Pop, Classical Rock)\n",
    "3. Although a dominant genre could be readily observed, recent music tend to incorporate many genres at a time and thus create less distinction when the model looks at the audio features.\n",
    "\n",
    ">Q: What other caveats could you deduce from the steps done above?\n"
   ]
  },
  {
   "cell_type": "markdown",
   "metadata": {},
   "source": [
    "## Model Improvement\n",
    "To enhance the model accuracy, try to do the following:\n",
    "1. Pick \"purer\" top-followed playlists for the training data. A quick way to do this is to pick playlists that contain pre 2000's music as majority as these are less hybridized than more recent songs.\n",
    "2. Try fewer but broader genres as categories (4-5 genres)\n",
    "3. Remove outlier songs! These are the songs that dont fit its playlist's description. A bit subjective (and tedious!).\n",
    "4. Limit the features used as predictors (could be inferred from the list of genres you're considering)\n"
   ]
  },
  {
   "cell_type": "markdown",
   "metadata": {},
   "source": [
    "## Day Deliverable\n",
    "*A. For your individual curiosities*\n",
    "1. Choose your own set of genres to be used as prediction values of the KNN model. You may select among the ones listed above or a completely new one (but you must already have the scraped playlist and tracks data for this new genre) \n",
    "\n",
    "2. Choose the features you want to use for the classification. Start by using all and then narrow down by removing one feature at a time and checking if the accuracy increases.\n",
    "\n",
    "3. Check if the model works by using it to predict genres of the spotify_daily_charts_tracks dataset. Do some spot checks and view the songs classified with the highest probabilities per genre\n",
    "\n",
    "\n",
    "*B. For your sprint project*\n",
    "4. Extract a tracks dataset that is relevant to the client you are targeting. \n",
    "   For example:\n",
    "    - A client artist's full discography\n",
    "    - Tracks from a popular playlist in spotify that your client artist appears in\n",
    "    - Discographies of prospect artists to collaborate with \n",
    "    - Popular tracks of the genre that your client artist is targeting to enter\n",
    "    \n",
    "    \n",
    "5. Using the model you tuned in (A), predict the genres of the tracks in (B.4). \n",
    "\n",
    "6. Do some spot checks and view the songs classified with the highest probabilities per genre. \n",
    "   What does the predicted classifications reveal about your tracks dataset?\n",
    "   \n",
    "\n"
   ]
  }
 ],
 "metadata": {
  "kernelspec": {
   "display_name": "Python 3",
   "language": "python",
   "name": "python3"
  },
  "language_info": {
   "codemirror_mode": {
    "name": "ipython",
    "version": 3
   },
   "file_extension": ".py",
   "mimetype": "text/x-python",
   "name": "python",
   "nbconvert_exporter": "python",
   "pygments_lexer": "ipython3",
   "version": "3.8.3"
  }
 },
 "nbformat": 4,
 "nbformat_minor": 2
}
